{
  "nbformat": 4,
  "nbformat_minor": 0,
  "metadata": {
    "colab": {
      "provenance": [],
      "collapsed_sections": [
        "JjJM3kbaykQl",
        "A6-mF9Cqgqns",
        "morbtaIcpkC3",
        "CHrLL6eWz-2s",
        "6A-_bpgTXShh",
        "iG3QCoI_XYIz",
        "Dd_MMXjpyGkj",
        "iXHlxqcJyOQ6"
      ],
      "toc_visible": true
    },
    "kernelspec": {
      "name": "python3",
      "display_name": "Python 3"
    },
    "language_info": {
      "name": "python"
    }
  },
  "cells": [
    {
      "cell_type": "markdown",
      "source": [
        "# 앞 부분"
      ],
      "metadata": {
        "id": "JjJM3kbaykQl"
      }
    },
    {
      "cell_type": "code",
      "source": [
        "from google.colab import drive\n",
        "drive.mount('/content/drive')"
      ],
      "metadata": {
        "colab": {
          "base_uri": "https://localhost:8080/"
        },
        "id": "FSjOWPUtqFDP",
        "outputId": "0f28a2fa-efbb-4841-9e2a-7ff8a5197779"
      },
      "execution_count": null,
      "outputs": [
        {
          "output_type": "stream",
          "name": "stdout",
          "text": [
            "Drive already mounted at /content/drive; to attempt to forcibly remount, call drive.mount(\"/content/drive\", force_remount=True).\n"
          ]
        }
      ]
    },
    {
      "cell_type": "code",
      "source": [
        "import pandas as pd\n",
        "file_name = '/content/drive/Shareddrives/인공지능 수행평가/res_seoul.csv'\n",
        "df = pd.read_csv(file_name)\n",
        "print(df.head())"
      ],
      "metadata": {
        "colab": {
          "base_uri": "https://localhost:8080/"
        },
        "id": "8AGih5IOk7Rf",
        "outputId": "71129d0e-5520-400c-85ba-4cc5e59cdff2"
      },
      "execution_count": null,
      "outputs": [
        {
          "output_type": "stream",
          "name": "stdout",
          "text": [
            "   연번      업종     가맹점명칭             주소1                     주소2          전화번호\n",
            "0   1      한식  청숫골보리밥쌈밥       강남구  청담1동              76-4  지하1층    0234434402\n",
            "1   2  일반대중음식      도야족발       강남구  개포3동  186-17번지  개포종합상가  117호    0234116000\n",
            "2   3  일반대중음식      페리카나   강남구  강남대로128길    27    (논현동,지상1층102호)  02  515 5770\n",
            "3   4     편의점   씨유  대치점       강남구  대치3동            946-16번지  1층     025539516\n",
            "4   5      양식      미피아체       강남구  청담2동           97-22  삼영빌딩1층     025166317\n"
          ]
        }
      ]
    },
    {
      "cell_type": "code",
      "source": [
        "df = pd.DataFrame(df)\n",
        "\n",
        "df['주소'] = df['주소1'] + ' ' + df['주소2']\n",
        "df = df.drop(['주소1', '주소2'], axis=1)\n",
        "\n",
        "print(df.head())"
      ],
      "metadata": {
        "id": "JjLhxYj4le7I",
        "colab": {
          "base_uri": "https://localhost:8080/"
        },
        "outputId": "a0ef2a9f-40f9-406d-caa9-2d5ecd230cd9"
      },
      "execution_count": null,
      "outputs": [
        {
          "output_type": "stream",
          "name": "stdout",
          "text": [
            "   연번      업종     가맹점명칭          전화번호                                   주소\n",
            "0   1      한식  청숫골보리밥쌈밥    0234434402                 강남구  청담1동 76-4  지하1층\n",
            "1   2  일반대중음식      도야족발    0234116000     강남구  개포3동 186-17번지  개포종합상가  117호\n",
            "2   3  일반대중음식      페리카나  02  515 5770   강남구  강남대로128길 27    (논현동,지상1층102호)\n",
            "3   4     편의점   씨유  대치점     025539516               강남구  대치3동 946-16번지  1층\n",
            "4   5      양식      미피아체     025166317              강남구  청담2동 97-22  삼영빌딩1층\n"
          ]
        }
      ]
    },
    {
      "cell_type": "code",
      "source": [
        "print(df.head())"
      ],
      "metadata": {
        "colab": {
          "base_uri": "https://localhost:8080/"
        },
        "id": "ef7ApV_XmjRG",
        "outputId": "074320fd-a8cb-4494-ccb3-a13ae28d2d44"
      },
      "execution_count": null,
      "outputs": [
        {
          "output_type": "stream",
          "name": "stdout",
          "text": [
            "   연번      업종     가맹점명칭          전화번호                                   주소\n",
            "0   1      한식  청숫골보리밥쌈밥    0234434402                 강남구  청담1동 76-4  지하1층\n",
            "1   2  일반대중음식      도야족발    0234116000     강남구  개포3동 186-17번지  개포종합상가  117호\n",
            "2   3  일반대중음식      페리카나  02  515 5770   강남구  강남대로128길 27    (논현동,지상1층102호)\n",
            "3   4     편의점   씨유  대치점     025539516               강남구  대치3동 946-16번지  1층\n",
            "4   5      양식      미피아체     025166317              강남구  청담2동 97-22  삼영빌딩1층\n"
          ]
        }
      ]
    },
    {
      "cell_type": "code",
      "source": [
        "print(df.info())\n",
        "df = df.drop(['전화번호'], axis=1)"
      ],
      "metadata": {
        "colab": {
          "base_uri": "https://localhost:8080/"
        },
        "id": "jMka0LALmnc_",
        "outputId": "7b813029-4f5e-421c-fb54-71197d3f9691"
      },
      "execution_count": null,
      "outputs": [
        {
          "output_type": "stream",
          "name": "stdout",
          "text": [
            "<class 'pandas.core.frame.DataFrame'>\n",
            "RangeIndex: 101077 entries, 0 to 101076\n",
            "Data columns (total 5 columns):\n",
            " #   Column  Non-Null Count   Dtype \n",
            "---  ------  --------------   ----- \n",
            " 0   연번      101077 non-null  int64 \n",
            " 1   업종      101077 non-null  object\n",
            " 2   가맹점명칭   101077 non-null  object\n",
            " 3   전화번호    100854 non-null  object\n",
            " 4   주소      100267 non-null  object\n",
            "dtypes: int64(1), object(4)\n",
            "memory usage: 3.9+ MB\n",
            "None\n"
          ]
        }
      ]
    },
    {
      "cell_type": "code",
      "source": [
        "print(df.head())"
      ],
      "metadata": {
        "colab": {
          "base_uri": "https://localhost:8080/"
        },
        "id": "HB-P7yyRm-WU",
        "outputId": "f4be51cc-5038-4792-c5bc-9c67594c1148"
      },
      "execution_count": null,
      "outputs": [
        {
          "output_type": "stream",
          "name": "stdout",
          "text": [
            "   연번      업종     가맹점명칭                                   주소\n",
            "0   1      한식  청숫골보리밥쌈밥                 강남구  청담1동 76-4  지하1층\n",
            "1   2  일반대중음식      도야족발     강남구  개포3동 186-17번지  개포종합상가  117호\n",
            "2   3  일반대중음식      페리카나   강남구  강남대로128길 27    (논현동,지상1층102호)\n",
            "3   4     편의점   씨유  대치점               강남구  대치3동 946-16번지  1층\n",
            "4   5      양식      미피아체              강남구  청담2동 97-22  삼영빌딩1층\n"
          ]
        }
      ]
    },
    {
      "cell_type": "code",
      "source": [
        "print(df.dtypes)\n"
      ],
      "metadata": {
        "colab": {
          "base_uri": "https://localhost:8080/"
        },
        "id": "BmVZVhqBjXBp",
        "outputId": "22c8dce9-9a54-4965-ceba-04e637832438"
      },
      "execution_count": null,
      "outputs": [
        {
          "output_type": "stream",
          "name": "stdout",
          "text": [
            "연번        int64\n",
            "업종       object\n",
            "가맹점명칭    object\n",
            "주소       object\n",
            "dtype: object\n"
          ]
        }
      ]
    },
    {
      "cell_type": "code",
      "source": [
        "count_by_upjong = df['업종'].value_counts()\n",
        "\n",
        "print(count_by_upjong)"
      ],
      "metadata": {
        "id": "iRy-HG1cnDp5"
      },
      "execution_count": null,
      "outputs": []
    },
    {
      "cell_type": "markdown",
      "source": [
        "## 데이터 분석\n",
        "* 연번:\n",
        "* 업종:\n",
        "* 가맹점명칭:\n",
        "* 주소:"
      ],
      "metadata": {
        "id": "A4zHGPbQhbA5"
      }
    },
    {
      "cell_type": "markdown",
      "source": [
        "# EDA 질문\n",
        "1. 식사를 하기 적합하지 않은 업종은 무엇이 있을까?\n",
        "2. 얼마나 많은 음식점이 있는지 그래프를 통해 알아보자.  "
      ],
      "metadata": {
        "id": "A6-mF9Cqgqns"
      }
    },
    {
      "cell_type": "markdown",
      "source": [
        "**1. 식사를 하기 적합하지 않은 업종 삭제하기.**"
      ],
      "metadata": {
        "id": "0s_JLDDJh2Z7"
      }
    },
    {
      "cell_type": "code",
      "source": [
        "df = df[~df['업종'].isin(['식품잡화', '할인점/슈퍼마켓', '농가공산품', '식품류제조업', '정육점', '커피전문점', '연쇄점', '기타6', '농수산물', '청과물', '기타4', '남.여기성복', '각종  수리점', '기타10', '내의류판매업', '복지매점', '미곡상', '전문서비스(회계,변리,컨설팅등)', '농협(기타)', '페인트', '생활잡화', '사진관,DPNE', '인형  및  완구  아동용  자전거', '사무기기'])]\n",
        "count_by_upjong = df['업종'].value_counts()\n",
        "\n",
        "print(count_by_upjong)\n"
      ],
      "metadata": {
        "id": "FZFrorsRgo_N",
        "colab": {
          "base_uri": "https://localhost:8080/"
        },
        "outputId": "c3d17fa8-186f-4508-a072-58decb835047"
      },
      "execution_count": null,
      "outputs": [
        {
          "output_type": "stream",
          "name": "stdout",
          "text": [
            "한식        45565\n",
            "일반대중음식    24847\n",
            "편의점        9662\n",
            "일식         4949\n",
            "중식         4559\n",
            "양식         4389\n",
            "제과점        3565\n",
            "패스트푸드      3126\n",
            "Name: 업종, dtype: int64\n"
          ]
        }
      ]
    },
    {
      "cell_type": "markdown",
      "source": [
        "**2. 음식점의 분포를 그래프로 알아보기**"
      ],
      "metadata": {
        "id": "drCp3a25iI3_"
      }
    },
    {
      "cell_type": "code",
      "source": [
        "print(df.head())"
      ],
      "metadata": {
        "colab": {
          "base_uri": "https://localhost:8080/"
        },
        "id": "Gyl6Cqlvj-nu",
        "outputId": "aca31a15-6520-4784-828e-8c4abcdf9050"
      },
      "execution_count": null,
      "outputs": [
        {
          "output_type": "stream",
          "name": "stdout",
          "text": [
            "   연번      업종     가맹점명칭                                   주소\n",
            "0   1      한식  청숫골보리밥쌈밥                 강남구  청담1동 76-4  지하1층\n",
            "1   2  일반대중음식      도야족발     강남구  개포3동 186-17번지  개포종합상가  117호\n",
            "2   3  일반대중음식      페리카나   강남구  강남대로128길 27    (논현동,지상1층102호)\n",
            "3   4     편의점   씨유  대치점               강남구  대치3동 946-16번지  1층\n",
            "4   5      양식      미피아체              강남구  청담2동 97-22  삼영빌딩1층\n"
          ]
        }
      ]
    },
    {
      "cell_type": "code",
      "source": [
        "!sudo apt-get install -y fonts-nanum\n",
        "!sudo fc-cache -fv\n",
        "!rm ~/.cache/matplotlib -rf"
      ],
      "metadata": {
        "colab": {
          "base_uri": "https://localhost:8080/"
        },
        "id": "nezQY92YlBHa",
        "outputId": "0fba9138-7d8c-4787-9e4b-f2cacd778dc7"
      },
      "execution_count": null,
      "outputs": [
        {
          "output_type": "stream",
          "name": "stdout",
          "text": [
            "Reading package lists... Done\n",
            "Building dependency tree... Done\n",
            "Reading state information... Done\n",
            "fonts-nanum is already the newest version (20200506-1).\n",
            "0 upgraded, 0 newly installed, 0 to remove and 11 not upgraded.\n",
            "/usr/share/fonts: caching, new cache contents: 0 fonts, 1 dirs\n",
            "/usr/share/fonts/truetype: caching, new cache contents: 0 fonts, 3 dirs\n",
            "/usr/share/fonts/truetype/humor-sans: caching, new cache contents: 1 fonts, 0 dirs\n",
            "/usr/share/fonts/truetype/liberation: caching, new cache contents: 16 fonts, 0 dirs\n",
            "/usr/share/fonts/truetype/nanum: caching, new cache contents: 12 fonts, 0 dirs\n",
            "/usr/local/share/fonts: caching, new cache contents: 0 fonts, 0 dirs\n",
            "/root/.local/share/fonts: skipping, no such directory\n",
            "/root/.fonts: skipping, no such directory\n",
            "/usr/share/fonts/truetype: skipping, looped directory detected\n",
            "/usr/share/fonts/truetype/humor-sans: skipping, looped directory detected\n",
            "/usr/share/fonts/truetype/liberation: skipping, looped directory detected\n",
            "/usr/share/fonts/truetype/nanum: skipping, looped directory detected\n",
            "/var/cache/fontconfig: cleaning cache directory\n",
            "/root/.cache/fontconfig: not cleaning non-existent cache directory\n",
            "/root/.fontconfig: not cleaning non-existent cache directory\n",
            "fc-cache: succeeded\n"
          ]
        }
      ]
    },
    {
      "cell_type": "code",
      "source": [
        "import matplotlib.pyplot as plt\n",
        "\n",
        "plt.rc('font', family = 'NanumBarunGothic')\n",
        "plt.rcParams['axes.unicode_minus'] = False"
      ],
      "metadata": {
        "id": "1Wgfkkt-kJbx"
      },
      "execution_count": null,
      "outputs": []
    },
    {
      "cell_type": "code",
      "source": [
        "df['구'] = df['주소'].apply(lambda x: x.split()[0] if pd.notna(x) else 'NaN')\n",
        "\n",
        "# '구' 별 음식점 개수 계산\n",
        "count_by_gu = df['구'].value_counts()"
      ],
      "metadata": {
        "id": "CrSwISbfhwAc"
      },
      "execution_count": null,
      "outputs": []
    },
    {
      "cell_type": "code",
      "source": [
        "na_data = df[df['구'] == 'Nan']\n",
        "print(na_data)\n",
        "\n",
        "df.fillna(method='ffill')"
      ],
      "metadata": {
        "colab": {
          "base_uri": "https://localhost:8080/"
        },
        "id": "7ASVH5onlqoM",
        "outputId": "cc2f28b8-6b2a-4c7d-c5d2-fb1693442397"
      },
      "execution_count": null,
      "outputs": [
        {
          "output_type": "stream",
          "name": "stdout",
          "text": [
            "Empty DataFrame\n",
            "Columns: [연번, 업종, 가맹점명칭, 주소, 구]\n",
            "Index: []\n"
          ]
        },
        {
          "output_type": "execute_result",
          "data": {
            "text/plain": [
              "            연번      업종     가맹점명칭                                   주소    구\n",
              "0            1      한식  청숫골보리밥쌈밥                 강남구  청담1동 76-4  지하1층  강남구\n",
              "1            2  일반대중음식      도야족발     강남구  개포3동 186-17번지  개포종합상가  117호  강남구\n",
              "2            3  일반대중음식      페리카나   강남구  강남대로128길 27    (논현동,지상1층102호)  강남구\n",
              "3            4     편의점   씨유  대치점               강남구  대치3동 946-16번지  1층  강남구\n",
              "4            5      양식      미피아체              강남구  청담2동 97-22  삼영빌딩1층  강남구\n",
              "...        ...     ...       ...                                  ...  ...\n",
              "101072  101073      한식        소우                      중랑구 중랑역로 190 1층  중랑구\n",
              "101073  101074      한식      착한회집               중랑구 중랑역로3나길 48 1층(중화동)  중랑구\n",
              "101074  101075      한식    연탄돼지갈비                중랑구 봉우재로 159 1층 (상봉동)  중랑구\n",
              "101075  101076      한식   채선당신내동점                      중랑구 용마산로 623 1층  중랑구\n",
              "101076  101077      한식    상봉풍천장어                 중랑구 망우로 262 1층 (상봉동)  중랑구\n",
              "\n",
              "[101077 rows x 5 columns]"
            ],
            "text/html": [
              "\n",
              "  <div id=\"df-57252e0d-a533-4463-90b7-304c30071617\" class=\"colab-df-container\">\n",
              "    <div>\n",
              "<style scoped>\n",
              "    .dataframe tbody tr th:only-of-type {\n",
              "        vertical-align: middle;\n",
              "    }\n",
              "\n",
              "    .dataframe tbody tr th {\n",
              "        vertical-align: top;\n",
              "    }\n",
              "\n",
              "    .dataframe thead th {\n",
              "        text-align: right;\n",
              "    }\n",
              "</style>\n",
              "<table border=\"1\" class=\"dataframe\">\n",
              "  <thead>\n",
              "    <tr style=\"text-align: right;\">\n",
              "      <th></th>\n",
              "      <th>연번</th>\n",
              "      <th>업종</th>\n",
              "      <th>가맹점명칭</th>\n",
              "      <th>주소</th>\n",
              "      <th>구</th>\n",
              "    </tr>\n",
              "  </thead>\n",
              "  <tbody>\n",
              "    <tr>\n",
              "      <th>0</th>\n",
              "      <td>1</td>\n",
              "      <td>한식</td>\n",
              "      <td>청숫골보리밥쌈밥</td>\n",
              "      <td>강남구  청담1동 76-4  지하1층</td>\n",
              "      <td>강남구</td>\n",
              "    </tr>\n",
              "    <tr>\n",
              "      <th>1</th>\n",
              "      <td>2</td>\n",
              "      <td>일반대중음식</td>\n",
              "      <td>도야족발</td>\n",
              "      <td>강남구  개포3동 186-17번지  개포종합상가  117호</td>\n",
              "      <td>강남구</td>\n",
              "    </tr>\n",
              "    <tr>\n",
              "      <th>2</th>\n",
              "      <td>3</td>\n",
              "      <td>일반대중음식</td>\n",
              "      <td>페리카나</td>\n",
              "      <td>강남구  강남대로128길 27    (논현동,지상1층102호)</td>\n",
              "      <td>강남구</td>\n",
              "    </tr>\n",
              "    <tr>\n",
              "      <th>3</th>\n",
              "      <td>4</td>\n",
              "      <td>편의점</td>\n",
              "      <td>씨유  대치점</td>\n",
              "      <td>강남구  대치3동 946-16번지  1층</td>\n",
              "      <td>강남구</td>\n",
              "    </tr>\n",
              "    <tr>\n",
              "      <th>4</th>\n",
              "      <td>5</td>\n",
              "      <td>양식</td>\n",
              "      <td>미피아체</td>\n",
              "      <td>강남구  청담2동 97-22  삼영빌딩1층</td>\n",
              "      <td>강남구</td>\n",
              "    </tr>\n",
              "    <tr>\n",
              "      <th>...</th>\n",
              "      <td>...</td>\n",
              "      <td>...</td>\n",
              "      <td>...</td>\n",
              "      <td>...</td>\n",
              "      <td>...</td>\n",
              "    </tr>\n",
              "    <tr>\n",
              "      <th>101072</th>\n",
              "      <td>101073</td>\n",
              "      <td>한식</td>\n",
              "      <td>소우</td>\n",
              "      <td>중랑구 중랑역로 190 1층</td>\n",
              "      <td>중랑구</td>\n",
              "    </tr>\n",
              "    <tr>\n",
              "      <th>101073</th>\n",
              "      <td>101074</td>\n",
              "      <td>한식</td>\n",
              "      <td>착한회집</td>\n",
              "      <td>중랑구 중랑역로3나길 48 1층(중화동)</td>\n",
              "      <td>중랑구</td>\n",
              "    </tr>\n",
              "    <tr>\n",
              "      <th>101074</th>\n",
              "      <td>101075</td>\n",
              "      <td>한식</td>\n",
              "      <td>연탄돼지갈비</td>\n",
              "      <td>중랑구 봉우재로 159 1층 (상봉동)</td>\n",
              "      <td>중랑구</td>\n",
              "    </tr>\n",
              "    <tr>\n",
              "      <th>101075</th>\n",
              "      <td>101076</td>\n",
              "      <td>한식</td>\n",
              "      <td>채선당신내동점</td>\n",
              "      <td>중랑구 용마산로 623 1층</td>\n",
              "      <td>중랑구</td>\n",
              "    </tr>\n",
              "    <tr>\n",
              "      <th>101076</th>\n",
              "      <td>101077</td>\n",
              "      <td>한식</td>\n",
              "      <td>상봉풍천장어</td>\n",
              "      <td>중랑구 망우로 262 1층 (상봉동)</td>\n",
              "      <td>중랑구</td>\n",
              "    </tr>\n",
              "  </tbody>\n",
              "</table>\n",
              "<p>101077 rows × 5 columns</p>\n",
              "</div>\n",
              "    <div class=\"colab-df-buttons\">\n",
              "\n",
              "  <div class=\"colab-df-container\">\n",
              "    <button class=\"colab-df-convert\" onclick=\"convertToInteractive('df-57252e0d-a533-4463-90b7-304c30071617')\"\n",
              "            title=\"Convert this dataframe to an interactive table.\"\n",
              "            style=\"display:none;\">\n",
              "\n",
              "  <svg xmlns=\"http://www.w3.org/2000/svg\" height=\"24px\" viewBox=\"0 -960 960 960\">\n",
              "    <path d=\"M120-120v-720h720v720H120Zm60-500h600v-160H180v160Zm220 220h160v-160H400v160Zm0 220h160v-160H400v160ZM180-400h160v-160H180v160Zm440 0h160v-160H620v160ZM180-180h160v-160H180v160Zm440 0h160v-160H620v160Z\"/>\n",
              "  </svg>\n",
              "    </button>\n",
              "\n",
              "  <style>\n",
              "    .colab-df-container {\n",
              "      display:flex;\n",
              "      gap: 12px;\n",
              "    }\n",
              "\n",
              "    .colab-df-convert {\n",
              "      background-color: #E8F0FE;\n",
              "      border: none;\n",
              "      border-radius: 50%;\n",
              "      cursor: pointer;\n",
              "      display: none;\n",
              "      fill: #1967D2;\n",
              "      height: 32px;\n",
              "      padding: 0 0 0 0;\n",
              "      width: 32px;\n",
              "    }\n",
              "\n",
              "    .colab-df-convert:hover {\n",
              "      background-color: #E2EBFA;\n",
              "      box-shadow: 0px 1px 2px rgba(60, 64, 67, 0.3), 0px 1px 3px 1px rgba(60, 64, 67, 0.15);\n",
              "      fill: #174EA6;\n",
              "    }\n",
              "\n",
              "    .colab-df-buttons div {\n",
              "      margin-bottom: 4px;\n",
              "    }\n",
              "\n",
              "    [theme=dark] .colab-df-convert {\n",
              "      background-color: #3B4455;\n",
              "      fill: #D2E3FC;\n",
              "    }\n",
              "\n",
              "    [theme=dark] .colab-df-convert:hover {\n",
              "      background-color: #434B5C;\n",
              "      box-shadow: 0px 1px 3px 1px rgba(0, 0, 0, 0.15);\n",
              "      filter: drop-shadow(0px 1px 2px rgba(0, 0, 0, 0.3));\n",
              "      fill: #FFFFFF;\n",
              "    }\n",
              "  </style>\n",
              "\n",
              "    <script>\n",
              "      const buttonEl =\n",
              "        document.querySelector('#df-57252e0d-a533-4463-90b7-304c30071617 button.colab-df-convert');\n",
              "      buttonEl.style.display =\n",
              "        google.colab.kernel.accessAllowed ? 'block' : 'none';\n",
              "\n",
              "      async function convertToInteractive(key) {\n",
              "        const element = document.querySelector('#df-57252e0d-a533-4463-90b7-304c30071617');\n",
              "        const dataTable =\n",
              "          await google.colab.kernel.invokeFunction('convertToInteractive',\n",
              "                                                    [key], {});\n",
              "        if (!dataTable) return;\n",
              "\n",
              "        const docLinkHtml = 'Like what you see? Visit the ' +\n",
              "          '<a target=\"_blank\" href=https://colab.research.google.com/notebooks/data_table.ipynb>data table notebook</a>'\n",
              "          + ' to learn more about interactive tables.';\n",
              "        element.innerHTML = '';\n",
              "        dataTable['output_type'] = 'display_data';\n",
              "        await google.colab.output.renderOutput(dataTable, element);\n",
              "        const docLink = document.createElement('div');\n",
              "        docLink.innerHTML = docLinkHtml;\n",
              "        element.appendChild(docLink);\n",
              "      }\n",
              "    </script>\n",
              "  </div>\n",
              "\n",
              "\n",
              "<div id=\"df-7f6996a8-5cd7-45d3-a017-04fbac587d86\">\n",
              "  <button class=\"colab-df-quickchart\" onclick=\"quickchart('df-7f6996a8-5cd7-45d3-a017-04fbac587d86')\"\n",
              "            title=\"Suggest charts\"\n",
              "            style=\"display:none;\">\n",
              "\n",
              "<svg xmlns=\"http://www.w3.org/2000/svg\" height=\"24px\"viewBox=\"0 0 24 24\"\n",
              "     width=\"24px\">\n",
              "    <g>\n",
              "        <path d=\"M19 3H5c-1.1 0-2 .9-2 2v14c0 1.1.9 2 2 2h14c1.1 0 2-.9 2-2V5c0-1.1-.9-2-2-2zM9 17H7v-7h2v7zm4 0h-2V7h2v10zm4 0h-2v-4h2v4z\"/>\n",
              "    </g>\n",
              "</svg>\n",
              "  </button>\n",
              "\n",
              "<style>\n",
              "  .colab-df-quickchart {\n",
              "      --bg-color: #E8F0FE;\n",
              "      --fill-color: #1967D2;\n",
              "      --hover-bg-color: #E2EBFA;\n",
              "      --hover-fill-color: #174EA6;\n",
              "      --disabled-fill-color: #AAA;\n",
              "      --disabled-bg-color: #DDD;\n",
              "  }\n",
              "\n",
              "  [theme=dark] .colab-df-quickchart {\n",
              "      --bg-color: #3B4455;\n",
              "      --fill-color: #D2E3FC;\n",
              "      --hover-bg-color: #434B5C;\n",
              "      --hover-fill-color: #FFFFFF;\n",
              "      --disabled-bg-color: #3B4455;\n",
              "      --disabled-fill-color: #666;\n",
              "  }\n",
              "\n",
              "  .colab-df-quickchart {\n",
              "    background-color: var(--bg-color);\n",
              "    border: none;\n",
              "    border-radius: 50%;\n",
              "    cursor: pointer;\n",
              "    display: none;\n",
              "    fill: var(--fill-color);\n",
              "    height: 32px;\n",
              "    padding: 0;\n",
              "    width: 32px;\n",
              "  }\n",
              "\n",
              "  .colab-df-quickchart:hover {\n",
              "    background-color: var(--hover-bg-color);\n",
              "    box-shadow: 0 1px 2px rgba(60, 64, 67, 0.3), 0 1px 3px 1px rgba(60, 64, 67, 0.15);\n",
              "    fill: var(--button-hover-fill-color);\n",
              "  }\n",
              "\n",
              "  .colab-df-quickchart-complete:disabled,\n",
              "  .colab-df-quickchart-complete:disabled:hover {\n",
              "    background-color: var(--disabled-bg-color);\n",
              "    fill: var(--disabled-fill-color);\n",
              "    box-shadow: none;\n",
              "  }\n",
              "\n",
              "  .colab-df-spinner {\n",
              "    border: 2px solid var(--fill-color);\n",
              "    border-color: transparent;\n",
              "    border-bottom-color: var(--fill-color);\n",
              "    animation:\n",
              "      spin 1s steps(1) infinite;\n",
              "  }\n",
              "\n",
              "  @keyframes spin {\n",
              "    0% {\n",
              "      border-color: transparent;\n",
              "      border-bottom-color: var(--fill-color);\n",
              "      border-left-color: var(--fill-color);\n",
              "    }\n",
              "    20% {\n",
              "      border-color: transparent;\n",
              "      border-left-color: var(--fill-color);\n",
              "      border-top-color: var(--fill-color);\n",
              "    }\n",
              "    30% {\n",
              "      border-color: transparent;\n",
              "      border-left-color: var(--fill-color);\n",
              "      border-top-color: var(--fill-color);\n",
              "      border-right-color: var(--fill-color);\n",
              "    }\n",
              "    40% {\n",
              "      border-color: transparent;\n",
              "      border-right-color: var(--fill-color);\n",
              "      border-top-color: var(--fill-color);\n",
              "    }\n",
              "    60% {\n",
              "      border-color: transparent;\n",
              "      border-right-color: var(--fill-color);\n",
              "    }\n",
              "    80% {\n",
              "      border-color: transparent;\n",
              "      border-right-color: var(--fill-color);\n",
              "      border-bottom-color: var(--fill-color);\n",
              "    }\n",
              "    90% {\n",
              "      border-color: transparent;\n",
              "      border-bottom-color: var(--fill-color);\n",
              "    }\n",
              "  }\n",
              "</style>\n",
              "\n",
              "  <script>\n",
              "    async function quickchart(key) {\n",
              "      const quickchartButtonEl =\n",
              "        document.querySelector('#' + key + ' button');\n",
              "      quickchartButtonEl.disabled = true;  // To prevent multiple clicks.\n",
              "      quickchartButtonEl.classList.add('colab-df-spinner');\n",
              "      try {\n",
              "        const charts = await google.colab.kernel.invokeFunction(\n",
              "            'suggestCharts', [key], {});\n",
              "      } catch (error) {\n",
              "        console.error('Error during call to suggestCharts:', error);\n",
              "      }\n",
              "      quickchartButtonEl.classList.remove('colab-df-spinner');\n",
              "      quickchartButtonEl.classList.add('colab-df-quickchart-complete');\n",
              "    }\n",
              "    (() => {\n",
              "      let quickchartButtonEl =\n",
              "        document.querySelector('#df-7f6996a8-5cd7-45d3-a017-04fbac587d86 button');\n",
              "      quickchartButtonEl.style.display =\n",
              "        google.colab.kernel.accessAllowed ? 'block' : 'none';\n",
              "    })();\n",
              "  </script>\n",
              "</div>\n",
              "    </div>\n",
              "  </div>\n"
            ]
          },
          "metadata": {},
          "execution_count": 195
        }
      ]
    },
    {
      "cell_type": "code",
      "source": [
        "print(df)\n",
        "\n",
        "# df.to_csv('menu_old.csv', index=True)\n",
        "\n",
        "# from google.colab import files\n",
        "# files.download('menu_old.csv')"
      ],
      "metadata": {
        "colab": {
          "base_uri": "https://localhost:8080/"
        },
        "id": "7AQdCt-jndFy",
        "outputId": "17add448-5098-46a8-d9bf-fe34d99b906c"
      },
      "execution_count": null,
      "outputs": [
        {
          "output_type": "stream",
          "name": "stdout",
          "text": [
            "            연번      업종     가맹점명칭                                   주소    구\n",
            "0            1      한식  청숫골보리밥쌈밥                 강남구  청담1동 76-4  지하1층  강남구\n",
            "1            2  일반대중음식      도야족발     강남구  개포3동 186-17번지  개포종합상가  117호  강남구\n",
            "2            3  일반대중음식      페리카나   강남구  강남대로128길 27    (논현동,지상1층102호)  강남구\n",
            "3            4     편의점   씨유  대치점               강남구  대치3동 946-16번지  1층  강남구\n",
            "4            5      양식      미피아체              강남구  청담2동 97-22  삼영빌딩1층  강남구\n",
            "...        ...     ...       ...                                  ...  ...\n",
            "101072  101073      한식        소우                      중랑구 중랑역로 190 1층  중랑구\n",
            "101073  101074      한식      착한회집               중랑구 중랑역로3나길 48 1층(중화동)  중랑구\n",
            "101074  101075      한식    연탄돼지갈비                중랑구 봉우재로 159 1층 (상봉동)  중랑구\n",
            "101075  101076      한식   채선당신내동점                      중랑구 용마산로 623 1층  중랑구\n",
            "101076  101077      한식    상봉풍천장어                 중랑구 망우로 262 1층 (상봉동)  중랑구\n",
            "\n",
            "[101077 rows x 5 columns]\n"
          ]
        }
      ]
    },
    {
      "cell_type": "code",
      "source": [
        "plt.figure(figsize = (17,7))\n",
        "plt.bar(count_by_gu.index, count_by_gu.values, color='blue')\n",
        "\n",
        "plt.title('각 구의 음식점 개수')\n",
        "plt.xlabel('구')\n",
        "plt.ylabel('음식점 개수')\n",
        "plt.grid()\n",
        "plt.show()"
      ],
      "metadata": {
        "colab": {
          "base_uri": "https://localhost:8080/"
        },
        "id": "3Z-7lgMZknM3",
        "outputId": "9a14ef49-a2c2-4cdd-97e1-a08d7e40ce5a"
      },
      "execution_count": null,
      "outputs": [
        {
          "output_type": "display_data",
          "data": {
            "text/plain": [
              "<Figure size 1700x700 with 1 Axes>"
            ],
            "image/png": "[encoded data removed]"
          },
          "metadata": {}
        }
      ]
    },
    {
      "cell_type": "markdown",
      "source": [
        "# 이제 할 거\n",
        "* \"서울특별시_국민기초생활 수급자 동별 현황\" 데이터에서 18세 미만 데이터를 사용하여 위에 있는 막대그래프에 선 그래프를 같이 그려서 데이터 분석해보기"
      ],
      "metadata": {
        "id": "morbtaIcpkC3"
      }
    },
    {
      "cell_type": "code",
      "source": [
        "file_name = '/content/drive/MyDrive/poor_people.csv'\n",
        "df_people = pd.read_csv(file_name, encoding='CP949')\n",
        "print(df_people.head())"
      ],
      "metadata": {
        "id": "Hca9leHiuIGq",
        "outputId": "18ff5a25-96bc-4861-a275-f813e0833693",
        "colab": {
          "base_uri": "https://localhost:8080/"
        }
      },
      "execution_count": null,
      "outputs": [
        {
          "output_type": "stream",
          "name": "stdout",
          "text": [
            "      시도  시군구    읍면동      자격    연령구간  수급권자수\n",
            "0  서울특별시  종로구    종로구  기초생계급여   18세미만      1\n",
            "1  서울특별시  종로구    종로구  기초생계급여  18~64세      9\n",
            "2  서울특별시  종로구    종로구  기초생계급여   65세이상      3\n",
            "3  서울특별시  종로구  청운효자동  기초생계급여   18세미만     10\n",
            "4  서울특별시  종로구  청운효자동  기초생계급여  18~64세     61\n"
          ]
        }
      ]
    },
    {
      "cell_type": "code",
      "source": [
        "print(df_people.info())"
      ],
      "metadata": {
        "id": "JfwAbCbrzIM9",
        "outputId": "b8dca745-7f6d-45e8-decf-e9ccf91df4a2",
        "colab": {
          "base_uri": "https://localhost:8080/"
        }
      },
      "execution_count": null,
      "outputs": [
        {
          "output_type": "stream",
          "name": "stdout",
          "text": [
            "<class 'pandas.core.frame.DataFrame'>\n",
            "RangeIndex: 4490 entries, 0 to 4489\n",
            "Data columns (total 6 columns):\n",
            " #   Column  Non-Null Count  Dtype \n",
            "---  ------  --------------  ----- \n",
            " 0   시도      4490 non-null   object\n",
            " 1   시군구     4490 non-null   object\n",
            " 2   읍면동     4490 non-null   object\n",
            " 3   자격      4490 non-null   object\n",
            " 4   연령구간    4490 non-null   object\n",
            " 5   수급권자수   4490 non-null   int64 \n",
            "dtypes: int64(1), object(5)\n",
            "memory usage: 210.6+ KB\n",
            "None\n"
          ]
        }
      ]
    },
    {
      "cell_type": "code",
      "source": [
        "count_by_jagyuk = df_people['자격'].value_counts()\n",
        "\n",
        "print(count_by_jagyuk)"
      ],
      "metadata": {
        "id": "6_lBoeb-zKqW",
        "outputId": "a2392ba8-74f1-454b-a712-733557aa5b7d",
        "colab": {
          "base_uri": "https://localhost:8080/"
        }
      },
      "execution_count": null,
      "outputs": [
        {
          "output_type": "stream",
          "name": "stdout",
          "text": [
            "기초생계급여    1308\n",
            "기초주거급여    1269\n",
            "기초의료급여    1165\n",
            "기초교육급여     748\n",
            "Name: 자격, dtype: int64\n"
          ]
        }
      ]
    },
    {
      "cell_type": "code",
      "source": [
        "filtered_df = df_people[df_people['자격'] == '기초생계급여']\n",
        "\n",
        "print(filtered_df)"
      ],
      "metadata": {
        "id": "n3gfosgZ0jLW",
        "outputId": "077af5c5-bd85-492d-cbdc-7bb2dfc197b9",
        "colab": {
          "base_uri": "https://localhost:8080/"
        }
      },
      "execution_count": null,
      "outputs": [
        {
          "output_type": "stream",
          "name": "stdout",
          "text": [
            "         시도  시군구    읍면동      자격    연령구간  수급권자수\n",
            "0     서울특별시  종로구    종로구  기초생계급여   18세미만      1\n",
            "1     서울특별시  종로구    종로구  기초생계급여  18~64세      9\n",
            "2     서울특별시  종로구    종로구  기초생계급여   65세이상      3\n",
            "3     서울특별시  종로구  청운효자동  기초생계급여   18세미만     10\n",
            "4     서울특별시  종로구  청운효자동  기초생계급여  18~64세     61\n",
            "...     ...  ...    ...     ...     ...    ...\n",
            "4469  서울특별시  강동구     길동  기초생계급여   65세이상    347\n",
            "4478  서울특별시  강동구   둔촌1동  기초생계급여   65세이상      1\n",
            "4479  서울특별시  강동구   둔촌2동  기초생계급여   18세미만     24\n",
            "4480  서울특별시  강동구   둔촌2동  기초생계급여  18~64세    181\n",
            "4481  서울특별시  강동구   둔촌2동  기초생계급여   65세이상    159\n",
            "\n",
            "[1308 rows x 6 columns]\n"
          ]
        }
      ]
    },
    {
      "cell_type": "code",
      "source": [
        "count_by_jagyuk = filtered_df['자격'].value_counts()\n",
        "\n",
        "print(count_by_jagyuk)"
      ],
      "metadata": {
        "id": "yWF9maTO0xLX",
        "outputId": "988e2298-6dd8-4ded-b71b-1f22057cae08",
        "colab": {
          "base_uri": "https://localhost:8080/"
        }
      },
      "execution_count": null,
      "outputs": [
        {
          "output_type": "stream",
          "name": "stdout",
          "text": [
            "기초생계급여    1308\n",
            "Name: 자격, dtype: int64\n"
          ]
        }
      ]
    },
    {
      "cell_type": "code",
      "source": [
        "df_people = filtered_df[filtered_df['연령구간'] == '18세미만']\n",
        "\n",
        "print(df_people)"
      ],
      "metadata": {
        "id": "t7Hhtd1l00Ww",
        "outputId": "fbb7e753-507b-481b-d6a6-4819df3f37f6",
        "colab": {
          "base_uri": "https://localhost:8080/"
        }
      },
      "execution_count": null,
      "outputs": [
        {
          "output_type": "stream",
          "name": "stdout",
          "text": [
            "         시도  시군구    읍면동      자격   연령구간  수급권자수\n",
            "0     서울특별시  종로구    종로구  기초생계급여  18세미만      1\n",
            "3     서울특별시  종로구  청운효자동  기초생계급여  18세미만     10\n",
            "13    서울특별시  종로구    사직동  기초생계급여  18세미만      5\n",
            "22    서울특별시  종로구    삼청동  기초생계급여  18세미만      3\n",
            "29    서울특별시  종로구    부암동  기초생계급여  18세미만      8\n",
            "...     ...  ...    ...     ...    ...    ...\n",
            "4438  서울특별시  강동구   성내1동  기초생계급여  18세미만     21\n",
            "4447  서울특별시  강동구   성내2동  기초생계급여  18세미만     21\n",
            "4457  서울특별시  강동구   성내3동  기초생계급여  18세미만     31\n",
            "4467  서울특별시  강동구     길동  기초생계급여  18세미만     67\n",
            "4479  서울특별시  강동구   둔촌2동  기초생계급여  18세미만     24\n",
            "\n",
            "[429 rows x 6 columns]\n"
          ]
        }
      ]
    },
    {
      "cell_type": "code",
      "source": [
        "count_by_nai = df_people['연령구간'].value_counts()\n",
        "\n",
        "print(count_by_nai)"
      ],
      "metadata": {
        "id": "-bFeyl6N12Ma",
        "outputId": "60abd17f-421f-437e-c0ca-d839123ee30a",
        "colab": {
          "base_uri": "https://localhost:8080/"
        }
      },
      "execution_count": null,
      "outputs": [
        {
          "output_type": "stream",
          "name": "stdout",
          "text": [
            "18세미만    429\n",
            "Name: 연령구간, dtype: int64\n"
          ]
        }
      ]
    },
    {
      "cell_type": "code",
      "source": [
        "df_people_graph = df_people.drop('읍면동', axis=1)\n",
        "print(df_people_graph)"
      ],
      "metadata": {
        "id": "8Y86QzPS2c9Q",
        "outputId": "ffbfd9a0-5eea-47a7-b528-e28fb4737daf",
        "colab": {
          "base_uri": "https://localhost:8080/"
        }
      },
      "execution_count": null,
      "outputs": [
        {
          "output_type": "stream",
          "name": "stdout",
          "text": [
            "         시도  시군구      자격   연령구간  수급권자수\n",
            "0     서울특별시  종로구  기초생계급여  18세미만      1\n",
            "3     서울특별시  종로구  기초생계급여  18세미만     10\n",
            "13    서울특별시  종로구  기초생계급여  18세미만      5\n",
            "22    서울특별시  종로구  기초생계급여  18세미만      3\n",
            "29    서울특별시  종로구  기초생계급여  18세미만      8\n",
            "...     ...  ...     ...    ...    ...\n",
            "4438  서울특별시  강동구  기초생계급여  18세미만     21\n",
            "4447  서울특별시  강동구  기초생계급여  18세미만     21\n",
            "4457  서울특별시  강동구  기초생계급여  18세미만     31\n",
            "4467  서울특별시  강동구  기초생계급여  18세미만     67\n",
            "4479  서울특별시  강동구  기초생계급여  18세미만     24\n",
            "\n",
            "[429 rows x 5 columns]\n"
          ]
        }
      ]
    },
    {
      "cell_type": "code",
      "source": [
        "count_by_people_gu = df_people_graph['시군구'].value_counts()*100\n",
        "print(count_by_people_gu)"
      ],
      "metadata": {
        "id": "x8c6DjDT4ZH8",
        "outputId": "77ed98fb-f181-4e18-8519-eccbf813a9d2",
        "colab": {
          "base_uri": "https://localhost:8080/"
        }
      },
      "execution_count": null,
      "outputs": [
        {
          "output_type": "stream",
          "name": "stdout",
          "text": [
            "송파구     2300\n",
            "관악구     2200\n",
            "성북구     2100\n",
            "강서구     2100\n",
            "노원구     2000\n",
            "강동구     1900\n",
            "강남구     1900\n",
            "영등포구    1900\n",
            "성동구     1800\n",
            "양천구     1800\n",
            "마포구     1700\n",
            "서초구     1700\n",
            "구로구     1700\n",
            "종로구     1700\n",
            "은평구     1700\n",
            "동작구     1600\n",
            "중랑구     1600\n",
            "용산구     1600\n",
            "동대문구    1500\n",
            "광진구     1500\n",
            "서대문구    1500\n",
            "도봉구     1400\n",
            "중구      1300\n",
            "강북구     1300\n",
            "금천구     1100\n",
            "Name: 시군구, dtype: int64\n"
          ]
        }
      ]
    },
    {
      "cell_type": "code",
      "source": [
        "plt.figure(figsize = (15,5))\n",
        "plt.bar(count_by_gu.index, count_by_gu.values, color='blue')\n",
        "plt.bar(count_by_people_gu.index, count_by_people_gu.values, color = 'red')\n",
        "\n",
        "plt.title('각 구의 음식점 개수')\n",
        "plt.xlabel('구')\n",
        "plt.ylabel('음식점 개수')\n",
        "plt.grid()\n",
        "plt.show()"
      ],
      "metadata": {
        "id": "QHpaTEvo4OA9",
        "outputId": "99da9c08-1cbb-4fd4-bdeb-9982e5e8f48f",
        "colab": {
          "base_uri": "https://localhost:8080/"
        }
      },
      "execution_count": null,
      "outputs": [
        {
          "output_type": "display_data",
          "data": {
            "text/plain": [
              "<Figure size 1500x500 with 1 Axes>"
            ],
            "image/png": "[encoded data removed]"
          },
          "metadata": {}
        }
      ]
    },
    {
      "cell_type": "code",
      "source": [
        "plt.figure(figsize=(15, 5))\n",
        "bar_plot = plt.bar(count_by_gu.keys(), count_by_gu.values, color='blue', label='음식점 개수')\n",
        "\n",
        "# 꺾은선 그래프\n",
        "plt.twinx()\n",
        "line_plot = plt.plot(count_by_people_gu.keys(), count_by_people_gu.values, color='red', label='기초생활수급자 인구수')\n",
        "\n",
        "plt.legend()\n",
        "\n",
        "# 그래프에 대한 제목 및 레이블 설정\n",
        "plt.title('각 구의 음식점 개수와 인구수 비교')\n",
        "plt.xlabel('구')\n",
        "plt.grid(True)\n",
        "\n",
        "plt.show()"
      ],
      "metadata": {
        "id": "GgHfCMrW6ZDD"
      },
      "execution_count": null,
      "outputs": []
    },
    {
      "cell_type": "code",
      "source": [
        "import pandas as pd\n",
        "import numpy as np\n",
        "import math\n",
        "import re\n",
        "from scipy.sparse import csr_matrix\n",
        "import matplotlib.pyplot as plt\n",
        "import seaborn as sns"
      ],
      "metadata": {
        "id": "IXF1tQr6ePcr"
      },
      "execution_count": null,
      "outputs": []
    },
    {
      "cell_type": "markdown",
      "source": [
        "# 시연 - 데이터 받고 실행 한번에"
      ],
      "metadata": {
        "id": "CHrLL6eWz-2s"
      }
    },
    {
      "cell_type": "code",
      "source": [
        "# 여기서 이거 실행 -> 다 되면 런타임 다시 실행\n",
        "# 주의 -> '런타임 모두 실행'하면 꼬일수가 있음\n",
        "\n",
        "!sudo apt-get install -y fonts-nanum\n",
        "!sudo fc-cache -fv\n",
        "!rm ~/.cache/matplotlib -rf"
      ],
      "metadata": {
        "id": "KwtS5vDO0S1G"
      },
      "execution_count": null,
      "outputs": []
    },
    {
      "cell_type": "code",
      "source": [
        "!pip install matplotlib\n",
        "!pip install matplotlib scikit-learn"
      ],
      "metadata": {
        "colab": {
          "base_uri": "https://localhost:8080/"
        },
        "id": "WzQVovK95VnU",
        "outputId": "78d7c28e-c0b6-42c2-9c34-dc0aad17153a"
      },
      "execution_count": null,
      "outputs": [
        {
          "output_type": "stream",
          "name": "stdout",
          "text": [
            "Requirement already satisfied: matplotlib in /usr/local/lib/python3.10/dist-packages (3.7.1)\n",
            "Requirement already satisfied: contourpy>=1.0.1 in /usr/local/lib/python3.10/dist-packages (from matplotlib) (1.2.0)\n",
            "Requirement already satisfied: cycler>=0.10 in /usr/local/lib/python3.10/dist-packages (from matplotlib) (0.12.1)\n",
            "Requirement already satisfied: fonttools>=4.22.0 in /usr/local/lib/python3.10/dist-packages (from matplotlib) (4.44.3)\n",
            "Requirement already satisfied: kiwisolver>=1.0.1 in /usr/local/lib/python3.10/dist-packages (from matplotlib) (1.4.5)\n",
            "Requirement already satisfied: numpy>=1.20 in /usr/local/lib/python3.10/dist-packages (from matplotlib) (1.23.5)\n",
            "Requirement already satisfied: packaging>=20.0 in /usr/local/lib/python3.10/dist-packages (from matplotlib) (23.2)\n",
            "Requirement already satisfied: pillow>=6.2.0 in /usr/local/lib/python3.10/dist-packages (from matplotlib) (9.4.0)\n",
            "Requirement already satisfied: pyparsing>=2.3.1 in /usr/local/lib/python3.10/dist-packages (from matplotlib) (3.1.1)\n",
            "Requirement already satisfied: python-dateutil>=2.7 in /usr/local/lib/python3.10/dist-packages (from matplotlib) (2.8.2)\n",
            "Requirement already satisfied: six>=1.5 in /usr/local/lib/python3.10/dist-packages (from python-dateutil>=2.7->matplotlib) (1.16.0)\n",
            "Requirement already satisfied: matplotlib in /usr/local/lib/python3.10/dist-packages (3.7.1)\n",
            "Requirement already satisfied: scikit-learn in /usr/local/lib/python3.10/dist-packages (1.2.2)\n",
            "Requirement already satisfied: contourpy>=1.0.1 in /usr/local/lib/python3.10/dist-packages (from matplotlib) (1.2.0)\n",
            "Requirement already satisfied: cycler>=0.10 in /usr/local/lib/python3.10/dist-packages (from matplotlib) (0.12.1)\n",
            "Requirement already satisfied: fonttools>=4.22.0 in /usr/local/lib/python3.10/dist-packages (from matplotlib) (4.44.3)\n",
            "Requirement already satisfied: kiwisolver>=1.0.1 in /usr/local/lib/python3.10/dist-packages (from matplotlib) (1.4.5)\n",
            "Requirement already satisfied: numpy>=1.20 in /usr/local/lib/python3.10/dist-packages (from matplotlib) (1.23.5)\n",
            "Requirement already satisfied: packaging>=20.0 in /usr/local/lib/python3.10/dist-packages (from matplotlib) (23.2)\n",
            "Requirement already satisfied: pillow>=6.2.0 in /usr/local/lib/python3.10/dist-packages (from matplotlib) (9.4.0)\n",
            "Requirement already satisfied: pyparsing>=2.3.1 in /usr/local/lib/python3.10/dist-packages (from matplotlib) (3.1.1)\n",
            "Requirement already satisfied: python-dateutil>=2.7 in /usr/local/lib/python3.10/dist-packages (from matplotlib) (2.8.2)\n",
            "Requirement already satisfied: scipy>=1.3.2 in /usr/local/lib/python3.10/dist-packages (from scikit-learn) (1.11.3)\n",
            "Requirement already satisfied: joblib>=1.1.1 in /usr/local/lib/python3.10/dist-packages (from scikit-learn) (1.3.2)\n",
            "Requirement already satisfied: threadpoolctl>=2.0.0 in /usr/local/lib/python3.10/dist-packages (from scikit-learn) (3.2.0)\n",
            "Requirement already satisfied: six>=1.5 in /usr/local/lib/python3.10/dist-packages (from python-dateutil>=2.7->matplotlib) (1.16.0)\n"
          ]
        }
      ]
    },
    {
      "cell_type": "code",
      "source": [
        "# 사용할 라이브러리 먼저 다운로드\n",
        "\n",
        "from gensim.models import Word2Vec\n",
        "import pandas as pd\n",
        "import random\n",
        "from sklearn.metrics.pairwise import cosine_similarity\n",
        "from sklearn.feature_extraction.text import CountVectorizer\n",
        "import re\n",
        "from sklearn.cluster import KMeans\n",
        "import matplotlib.pyplot as plt\n",
        "from sklearn.manifold import TSNE\n",
        "import numpy as np"
      ],
      "metadata": {
        "id": "eL0SWGjS1Ozv"
      },
      "execution_count": null,
      "outputs": []
    },
    {
      "cell_type": "code",
      "source": [
        "# 마운트는 별도로 먼저 실행\n",
        "from google.colab import drive\n",
        "drive.mount('/content/drive')"
      ],
      "metadata": {
        "colab": {
          "base_uri": "https://localhost:8080/"
        },
        "id": "bFhTgERD0rJB",
        "outputId": "a0c1f9b5-014b-409d-abcd-58eebf8ee9e6"
      },
      "execution_count": null,
      "outputs": [
        {
          "output_type": "stream",
          "name": "stdout",
          "text": [
            "Drive already mounted at /content/drive; to attempt to forcibly remount, call drive.mount(\"/content/drive\", force_remount=True).\n"
          ]
        }
      ]
    },
    {
      "cell_type": "code",
      "source": [
        "# 전처리랑 visited = 0까지 한번에 세팅\n",
        "\n",
        "file_name = '/content/drive/Shareddrives/인공지능 수행평가/res_seoul.csv'\n",
        "df = pd.read_csv(file_name)\n",
        "df = pd.DataFrame(df)\n",
        "\n",
        "df['주소'] = df['주소1'] + ' ' + df['주소2']\n",
        "df = df.drop(['주소1', '주소2'], axis=1)\n",
        "\n",
        "df = df.drop(['전화번호'], axis=1)\n",
        "df = df[~df['업종'].isin(['식품잡화', '할인점/슈퍼마켓', '농가공산품', '식품류제조업', '정육점', '커피전문점', '연쇄점', '기타6', '농수산물', '청과물', '기타4', '남.여기성복', '각종  수리점', '기타10', '내의류판매업', '복지매점', '미곡상', '전문서비스(회계,변리,컨설팅등)', '농협(기타)', '페인트', '생활잡화', '사진관,DPNE', '인형  및  완구  아동용  자전거', '사무기기'])]\n",
        "df['구'] = df['주소'].apply(lambda x: x.split()[0] if pd.notna(x) else 'NaN')\n",
        "df.fillna(method='ffill')\n",
        "\n",
        "df['visited'] = 0\n",
        "print(df.head())"
      ],
      "metadata": {
        "id": "_pwTBLAT0COu",
        "colab": {
          "base_uri": "https://localhost:8080/"
        },
        "outputId": "82dd60e2-b685-412a-fee7-d19d4cef36cf"
      },
      "execution_count": null,
      "outputs": [
        {
          "output_type": "stream",
          "name": "stdout",
          "text": [
            "   연번      업종     가맹점명칭                                   주소    구  visited\n",
            "0   1      한식  청숫골보리밥쌈밥                 강남구  청담1동 76-4  지하1층  강남구        0\n",
            "1   2  일반대중음식      도야족발     강남구  개포3동 186-17번지  개포종합상가  117호  강남구        0\n",
            "2   3  일반대중음식      페리카나   강남구  강남대로128길 27    (논현동,지상1층102호)  강남구        0\n",
            "3   4     편의점   씨유  대치점               강남구  대치3동 946-16번지  1층  강남구        0\n",
            "4   5      양식      미피아체              강남구  청담2동 97-22  삼영빌딩1층  강남구        0\n"
          ]
        }
      ]
    },
    {
      "cell_type": "markdown",
      "source": [
        "# 데이터 (방문했던곳)"
      ],
      "metadata": {
        "id": "6A-_bpgTXShh"
      }
    },
    {
      "cell_type": "code",
      "source": [
        "data = [\n",
        "  {\n",
        "    \"id\": 1,\n",
        "    \"name\": \"김형제고기의철학\",\n",
        "    \"menu\": []\n",
        "  },\n",
        "  {\n",
        "    \"id\": 2,\n",
        "    \"name\": \"족발야시장\",\n",
        "    \"menu\": []\n",
        "  },\n",
        "  {\n",
        "    \"id\": 3,\n",
        "    \"name\": \"화평동왕냉면\",\n",
        "    \"menu\": []\n",
        "  },\n",
        "  {\n",
        "    \"id\": 4,\n",
        "    \"name\": \"닷컴분식\",\n",
        "    \"menu\": [\n",
        "      {\n",
        "        \"name\": \"떡볶이\",\n",
        "        \"price\": 3000\n",
        "      },\n",
        "      {\n",
        "        \"name\": \"순대\",\n",
        "        \"price\": 3500\n",
        "      },\n",
        "      {\n",
        "        \"name\": \"라면\",\n",
        "        \"price\": 3500\n",
        "      },\n",
        "      {\n",
        "        \"name\": \"김밥\",\n",
        "        \"price\": 2500\n",
        "      },\n",
        "      {\n",
        "        \"name\": \"오뎅\",\n",
        "        \"price\": 700\n",
        "      }\n",
        "    ]\n",
        "  },\n",
        "  {\n",
        "    \"id\": 5,\n",
        "    \"name\": \"히죽히죽\",\n",
        "    \"menu\": []\n",
        "  },\n",
        "  {\n",
        "    \"id\": 6,\n",
        "    \"name\": \"바르다\",\n",
        "    \"menu\": []\n",
        "  },\n",
        "  {\n",
        "    \"id\": 7,\n",
        "    \"name\": \"철판오징어\",\n",
        "    \"menu\": \"\"\n",
        "  },\n",
        "  {\n",
        "    \"id\": 8,\n",
        "    \"name\": \"박가네초두부\",\n",
        "    \"menu\": []\n",
        "  },\n",
        "  {\n",
        "    \"id\": 9,\n",
        "    \"name\": \"바르다김선생신도림포스빌점\",\n",
        "    \"menu\": []\n",
        "  },\n",
        "  {\n",
        "    \"id\": 10,\n",
        "    \"name\": \"전라도매생이칼국수\",\n",
        "    \"menu\": []\n",
        "  },\n",
        "  {\n",
        "    \"id\": 11,\n",
        "    \"name\": \"여수집\",\n",
        "    \"menu\": []\n",
        "  },\n",
        "  {\n",
        "    \"id\": 12,\n",
        "    \"name\": \"고기천왕\",\n",
        "    \"menu\": \"\"\n",
        "  },\n",
        "  {\n",
        "    \"id\": 13,\n",
        "    \"name\": \"호남식당\",\n",
        "    \"menu\": \"\"\n",
        "  },\n",
        "  {\n",
        "    \"id\": 14,\n",
        "    \"name\": \"은봉이네\",\n",
        "    \"menu\": \"\"\n",
        "  },\n",
        "  {\n",
        "    \"id\": 15,\n",
        "    \"name\": \"김밥세상\",\n",
        "    \"menu\": \"\"\n",
        "  },\n",
        "  {\n",
        "    \"id\": 16,\n",
        "    \"name\": \"동글이\",\n",
        "    \"menu\": [\n",
        "      {\n",
        "        \"name\": \"떡볶이(소)+튀김(1인분)\",\n",
        "        \"price\": 4500\n",
        "      },\n",
        "      {\n",
        "        \"name\": \"떡볶이(중)+튀김(1인분)\",\n",
        "        \"price\": 5500\n",
        "      },\n",
        "      {\n",
        "        \"name\": \"떡볶이(소)+딸기생과일\",\n",
        "        \"price\": 5500\n",
        "      },\n",
        "      {\n",
        "        \"name\": \"토마토 생과일\",\n",
        "        \"price\": 3000\n",
        "      },\n",
        "      {\n",
        "        \"name\": \"천도복숭아 생과일\",\n",
        "        \"price\": 3000\n",
        "      }\n",
        "    ]\n",
        "  },\n",
        "  {\n",
        "    \"id\": 17,\n",
        "    \"name\": \"장군이네\",\n",
        "    \"menu\": []\n",
        "  },\n",
        "  {\n",
        "    \"id\": 18,\n",
        "    \"name\": \"부산사나이레시피국밥\",\n",
        "    \"menu\": []\n",
        "  },\n",
        "  {\n",
        "    \"id\": 19,\n",
        "    \"name\": \"전주식당\",\n",
        "    \"menu\": \"\"\n",
        "  },\n",
        "  {\n",
        "    \"id\": 20,\n",
        "    \"name\": \"김밥천국\",\n",
        "    \"menu\": \"\"\n",
        "  },\n",
        "  {\n",
        "    \"id\": 21,\n",
        "    \"name\": \"오봉집\",\n",
        "    \"menu\": \"\"\n",
        "  },\n",
        "  {\n",
        "    \"id\": 22,\n",
        "    \"name\": \"왕뼈\",\n",
        "    \"menu\": \"\"\n",
        "  },\n",
        "  {\n",
        "    \"id\": 23,\n",
        "    \"name\": \"정겨운양은냄비\",\n",
        "    \"menu\": [\n",
        "      {\n",
        "        \"name\": \"왕뼈묵은지찜(작은)\",\n",
        "        \"price\": 15000\n",
        "      },\n",
        "      {\n",
        "        \"name\": \"묵은지찌개(작은)\",\n",
        "        \"price\": 14000\n",
        "      },\n",
        "      {\n",
        "        \"name\": \"닭한마리찌개(반마리)\",\n",
        "        \"price\": 15000\n",
        "      },\n",
        "      {\n",
        "        \"name\": \"얼큰동태찌개(작은)\",\n",
        "        \"price\": 16000\n",
        "      },\n",
        "      {\n",
        "        \"name\": \"돼지두부치기(작은)\",\n",
        "        \"price\": 14000\n",
        "      }\n",
        "    ]\n",
        "  },\n",
        "  {\n",
        "    \"id\": 24,\n",
        "    \"name\": \"좀비곱창\",\n",
        "    \"menu\": [\n",
        "      {\n",
        "        \"name\": \"야채곱창볶음\",\n",
        "        \"price\": 10000\n",
        "      },\n",
        "      {\n",
        "        \"name\": \"순대볶음\",\n",
        "        \"price\": 9500\n",
        "      },\n",
        "      {\n",
        "        \"name\": \"순대곱창볶음\",\n",
        "        \"price\": 10500\n",
        "      },\n",
        "      {\n",
        "        \"name\": \"통마늘 알곱창\",\n",
        "        \"price\": 11000\n",
        "      },\n",
        "      {\n",
        "        \"name\": \"불치즈 알곱창\",\n",
        "        \"price\": 12000\n",
        "      },\n",
        "      {\n",
        "        \"name\": \"치즈 곱창\",\n",
        "        \"price\": 12000\n",
        "      }\n",
        "    ]\n",
        "  },\n",
        "  {\n",
        "    \"id\": 25,\n",
        "    \"name\": \"한국황칠갈비탕\",\n",
        "    \"menu\": []\n",
        "  },\n",
        "  {\n",
        "    \"id\": 26,\n",
        "    \"name\": \"뜸들이다\",\n",
        "    \"menu\": \"\"\n",
        "  },\n",
        "  {\n",
        "    \"id\": 27,\n",
        "    \"name\": \"정식당\",\n",
        "    \"menu\": \"\"\n",
        "  },\n",
        "  {\n",
        "    \"id\": 28,\n",
        "    \"name\": \"한결같이\",\n",
        "    \"menu\": []\n",
        "  },\n",
        "  {\n",
        "    \"id\": 29,\n",
        "    \"name\": \"보쌈주는족발집\",\n",
        "    \"menu\": \"\"\n",
        "  },\n",
        "  {\n",
        "    \"id\": 30,\n",
        "    \"name\": \"제이디푸드\",\n",
        "    \"menu\": \"\"\n",
        "  },\n",
        "  {\n",
        "    \"id\": 31,\n",
        "    \"name\": \"텃골순대국\",\n",
        "    \"menu\": [\n",
        "      {\n",
        "        \"name\": \"순대국\",\n",
        "        \"price\": 8000\n",
        "      },\n",
        "      {\n",
        "        \"name\": \"순대탕\",\n",
        "        \"price\": 8000\n",
        "      },\n",
        "      {\n",
        "        \"name\": \"창고비국\",\n",
        "        \"price\": 9000\n",
        "      },\n",
        "      {\n",
        "        \"name\": \"감투국\",\n",
        "        \"price\": 9000\n",
        "      },\n",
        "      {\n",
        "        \"name\": \"술국\",\n",
        "        \"price\": 14000\n",
        "      }\n",
        "    ]\n",
        "  },\n",
        "  {\n",
        "    \"id\": 32,\n",
        "    \"name\": \"육감만족\",\n",
        "    \"menu\": [\n",
        "      {\n",
        "        \"name\": \"앞다리\",\n",
        "        \"price\": 37000\n",
        "      },\n",
        "      {\n",
        "        \"name\": \"뒷다리\",\n",
        "        \"price\": 33000\n",
        "      },\n",
        "      {\n",
        "        \"name\": \"보쌈(대)\",\n",
        "        \"price\": 37000\n",
        "      },\n",
        "      {\n",
        "        \"name\": \"보쌈(중)\",\n",
        "        \"price\": 33000\n",
        "      },\n",
        "      {\n",
        "        \"name\": \"직화불족발\",\n",
        "        \"price\": 37000\n",
        "      },\n",
        "      {\n",
        "        \"name\": \"반반족발(대)\",\n",
        "        \"price\": 48000\n",
        "      }\n",
        "    ]\n",
        "  },\n",
        "  {\n",
        "    \"id\": 33,\n",
        "    \"name\": \"황제꽃소\",\n",
        "    \"menu\": [\n",
        "      {\n",
        "        \"name\": \"제주오겹살 (150g)\",\n",
        "        \"price\": 15000\n",
        "      },\n",
        "      {\n",
        "        \"name\": \"돼지왕구이 (300g)\",\n",
        "        \"price\": 16000\n",
        "      },\n",
        "      {\n",
        "        \"name\": \"벌집삼겹살 (150g)\",\n",
        "        \"price\": 13000\n",
        "      },\n",
        "      {\n",
        "        \"name\": \"돼지껍데기 (150g)\",\n",
        "        \"price\": 7000\n",
        "      }\n",
        "    ]\n",
        "  },\n",
        "  {\n",
        "    \"id\": 34,\n",
        "    \"name\": \"타코네\",\n",
        "    \"menu\": \"\"\n",
        "  },\n",
        "  {\n",
        "    \"id\": 35,\n",
        "    \"name\": \"주식회사\",\n",
        "    \"menu\": \"\"\n",
        "  },\n",
        "  {\n",
        "    \"id\": 36,\n",
        "    \"name\": \"골목숯불구이\",\n",
        "    \"menu\": [\n",
        "      {\n",
        "        \"name\": \"소갈비살\",\n",
        "        \"price\": 12000\n",
        "      },\n",
        "      {\n",
        "        \"name\": \"닭뼈구이\",\n",
        "        \"price\": 12000\n",
        "      },\n",
        "      {\n",
        "        \"name\": \"양꼬치\",\n",
        "        \"price\": 10000\n",
        "      },\n",
        "      {\n",
        "        \"name\": \"소꼬치\",\n",
        "        \"price\": 12000\n",
        "      },\n",
        "      {\n",
        "        \"name\": \"양갈비구이\",\n",
        "        \"price\": 15000\n",
        "      }\n",
        "    ]\n",
        "  },\n",
        "  {\n",
        "    \"id\": 37,\n",
        "    \"name\": \"독도어시장\",\n",
        "    \"menu\": []\n",
        "  },\n",
        "  {\n",
        "    \"id\": 38,\n",
        "    \"name\": \"한솥(신도림e편한세상점)\",\n",
        "    \"menu\": [\n",
        "      {\n",
        "        \"name\": \"매화\",\n",
        "        \"price\": 10500\n",
        "      },\n",
        "      {\n",
        "        \"name\": \"진달래\",\n",
        "        \"price\": 7800\n",
        "      },\n",
        "      {\n",
        "        \"name\": \"개나리\",\n",
        "        \"price\": 8500\n",
        "      },\n",
        "      {\n",
        "        \"name\": \"새치고기고기\",\n",
        "        \"price\": 7000\n",
        "      },\n",
        "      {\n",
        "        \"name\": \"돈치고기고기\",\n",
        "        \"price\": 6000\n",
        "      },\n",
        "      {\n",
        "        \"name\": \"숯불직화구이\",\n",
        "        \"price\": 6600\n",
        "      }\n",
        "    ]\n",
        "  },\n",
        "  {\n",
        "    \"id\": 39,\n",
        "    \"name\": \"기분좋아구찜\",\n",
        "    \"menu\": \"\"\n",
        "  },\n",
        "  {\n",
        "    \"id\": 40,\n",
        "    \"name\": \"토백이감자탕\",\n",
        "    \"menu\": []\n",
        "  },\n",
        "  {\n",
        "    \"id\": 41,\n",
        "    \"name\": \"김가네\",\n",
        "    \"menu\": \"\"\n",
        "  },\n",
        "  {\n",
        "    \"id\": 42,\n",
        "    \"name\": \"어사출또\",\n",
        "    \"menu\": [\n",
        "      {\n",
        "        \"name\": \"대방어\",\n",
        "        \"price\": 40000\n",
        "      },\n",
        "      {\n",
        "        \"name\": \"광어(중)\",\n",
        "        \"price\": 20000\n",
        "      },\n",
        "      {\n",
        "        \"name\": \"참돔(중)\",\n",
        "        \"price\": 25000\n",
        "      },\n",
        "      {\n",
        "        \"name\": \"전복\",\n",
        "        \"price\": 20000\n",
        "      },\n",
        "      {\n",
        "        \"name\": \"아나고\",\n",
        "        \"price\": 30000\n",
        "      }\n",
        "    ]\n",
        "  },\n",
        "  {\n",
        "    \"id\": 43,\n",
        "    \"name\": \"홍가네\",\n",
        "    \"menu\": \"\"\n",
        "  },\n",
        "  {\n",
        "    \"id\": 44,\n",
        "    \"name\": \"만나식당\",\n",
        "    \"menu\": \"\"\n",
        "  },\n",
        "  {\n",
        "    \"id\": 45,\n",
        "    \"name\": \"행복한집\",\n",
        "    \"menu\": \"\"\n",
        "  },\n",
        "  {\n",
        "    \"id\": 46,\n",
        "    \"name\": \"판교집\",\n",
        "    \"menu\": [\n",
        "      {\n",
        "        \"name\": \"한돈급생삼겹살(180g)\",\n",
        "        \"price\": 13000\n",
        "      },\n",
        "      {\n",
        "        \"name\": \"솔트에이징 특소고기\",\n",
        "        \"price\": 83000\n",
        "      },\n",
        "      {\n",
        "        \"name\": \"솔트에이징 돼지 모듬\",\n",
        "        \"price\": 28000\n",
        "      }\n",
        "    ]\n",
        "  },\n",
        "  {\n",
        "    \"id\": 47,\n",
        "    \"name\": \"남도이모네\",\n",
        "    \"menu\": [\n",
        "      {\n",
        "        \"name\": \"반건조생선찜(소)\",\n",
        "        \"price\": 28000\n",
        "      },\n",
        "      {\n",
        "        \"name\": \"동태내장전골(소)\",\n",
        "        \"price\": 28000\n",
        "      },\n",
        "      {\n",
        "        \"name\": \"생삼겹살(1인)\",\n",
        "        \"price\": 12000\n",
        "      },\n",
        "      {\n",
        "        \"name\": \"오징어볶음\",\n",
        "        \"price\": 8000\n",
        "      },\n",
        "      {\n",
        "        \"name\": \"알탕\",\n",
        "        \"price\": 8000\n",
        "      }\n",
        "    ]\n",
        "  },\n",
        "  {\n",
        "    \"id\": 48,\n",
        "    \"name\": \"광덕구이마당\",\n",
        "    \"menu\": []\n",
        "  },\n",
        "  {\n",
        "    \"id\": 49,\n",
        "    \"name\": \"놀부맑은설렁탕담다\",\n",
        "    \"menu\": [\n",
        "      {\n",
        "        \"name\": \"맑은 설렁탕(보통)\",\n",
        "        \"price\": 9000\n",
        "      },\n",
        "      {\n",
        "        \"name\": \"맑은 낙지 설렁탕(보통)\",\n",
        "        \"price\": 12000\n",
        "      },\n",
        "      {\n",
        "        \"name\": \"얼큰 설렁탕(보통)\",\n",
        "        \"price\": 10000\n",
        "      },\n",
        "      {\n",
        "        \"name\": \"사골 설렁탕(보통)\",\n",
        "        \"price\": 9000\n",
        "      },\n",
        "      {\n",
        "        \"name\": \"황태 설렁탕\",\n",
        "        \"price\": 10000\n",
        "      }\n",
        "    ]\n",
        "  }\n",
        "]"
      ],
      "metadata": {
        "id": "8-4Gcm2-zODF"
      },
      "execution_count": null,
      "outputs": []
    },
    {
      "cell_type": "markdown",
      "source": [
        "# 데이터 (랜덤 추출 - 추천을 위해)"
      ],
      "metadata": {
        "id": "iG3QCoI_XYIz"
      }
    },
    {
      "cell_type": "code",
      "source": [
        "random_data = [\n",
        "  {\n",
        "    \"id\": 1,\n",
        "    \"name\": \"케이먹방제이프로(K먹방J프로)\",\n",
        "    \"menu\": \"\"\n",
        "  },\n",
        "  {\n",
        "    \"id\": 2,\n",
        "    \"name\": \"고돼지\",\n",
        "    \"menu\": \"\"\n",
        "  },\n",
        "  {\n",
        "    \"id\": 3,\n",
        "    \"name\": \"중앙올리브\",\n",
        "    \"menu\": []\n",
        "  },\n",
        "  {\n",
        "    \"id\": 4,\n",
        "    \"name\": \"애플김밥\",\n",
        "    \"menu\": []\n",
        "  },\n",
        "  {\n",
        "    \"id\": 5,\n",
        "    \"name\": \"한옥집\",\n",
        "    \"menu\": [\n",
        "      {\n",
        "        \"name\": \"진눈꽃살 (150g)\",\n",
        "        \"price\": 27000\n",
        "      },\n",
        "      {\n",
        "        \"name\": \"살치눈꽃살 (150g)\",\n",
        "        \"price\": 23000\n",
        "      },\n",
        "      {\n",
        "        \"name\": \"등심 (150g)\",\n",
        "        \"price\": 18000\n",
        "      },\n",
        "      {\n",
        "        \"name\": \"갈비살 (150g)\",\n",
        "        \"price\": 15000\n",
        "      },\n",
        "      {\n",
        "        \"name\": \"양념갈비 (300g)\",\n",
        "        \"price\": 25000\n",
        "      }\n",
        "    ]\n",
        "  },\n",
        "  {\n",
        "    \"id\": 6,\n",
        "    \"name\": \"춘천닭갈비\",\n",
        "    \"menu\": \"\"\n",
        "  },\n",
        "  {\n",
        "    \"id\": 7,\n",
        "    \"name\": \"용선생\",\n",
        "    \"menu\": []\n",
        "  },\n",
        "  {\n",
        "    \"id\": 8,\n",
        "    \"name\": \"밤비네\",\n",
        "    \"menu\": []\n",
        "  },\n",
        "  {\n",
        "    \"id\": 9,\n",
        "    \"name\": \"청원국민통닭\",\n",
        "    \"menu\": [\n",
        "      {\n",
        "        \"name\": \"1마리\",\n",
        "        \"price\": 4500\n",
        "      },\n",
        "      {\n",
        "        \"name\": \"4,500\",\n",
        "        \"price\": 2\n",
        "      },\n",
        "      {\n",
        "        \"name\": \"2마리\",\n",
        "        \"price\": 8000\n",
        "      },\n",
        "      {\n",
        "        \"name\": \"8,000\",\n",
        "        \"price\": 3\n",
        "      },\n",
        "      {\n",
        "        \"name\": \"3마리\",\n",
        "        \"price\": 11000\n",
        "      },\n",
        "      {\n",
        "        \"name\": \"닭똥집\",\n",
        "        \"price\": 6000\n",
        "      }\n",
        "    ]\n",
        "  },\n",
        "  {\n",
        "    \"id\": 10,\n",
        "    \"name\": \"대박순두부\",\n",
        "    \"menu\": [\n",
        "      {\n",
        "        \"name\": \"해물순두부\",\n",
        "        \"price\": 7000\n",
        "      },\n",
        "      {\n",
        "        \"name\": \"만두순두부\",\n",
        "        \"price\": 7000\n",
        "      },\n",
        "      {\n",
        "        \"name\": \"김치순두부\",\n",
        "        \"price\": 7000\n",
        "      },\n",
        "      {\n",
        "        \"name\": \"치즈순두부\",\n",
        "        \"price\": 7000\n",
        "      },\n",
        "      {\n",
        "        \"name\": \"곱창순두부\",\n",
        "        \"price\": 7000\n",
        "      }\n",
        "    ]\n",
        "  },\n",
        "  {\n",
        "    \"id\": 11,\n",
        "    \"name\": \"장터식당\",\n",
        "    \"menu\": \"\"\n",
        "  },\n",
        "  {\n",
        "    \"id\": 12,\n",
        "    \"name\": \"웅이네\",\n",
        "    \"menu\": \"\"\n",
        "  },\n",
        "  {\n",
        "    \"id\": 13,\n",
        "    \"name\": \"부뚜막청국장\",\n",
        "    \"menu\": \"\"\n",
        "  },\n",
        "  {\n",
        "    \"id\": 14,\n",
        "    \"name\": \"소담\",\n",
        "    \"menu\": \"\"\n",
        "  },\n",
        "  {\n",
        "    \"id\": 15,\n",
        "    \"name\": \"돼지집\",\n",
        "    \"menu\": \"\"\n",
        "  },\n",
        "  {\n",
        "    \"id\": 16,\n",
        "    \"name\": \"윤식당\",\n",
        "    \"menu\": \"\"\n",
        "  },\n",
        "  {\n",
        "    \"id\": 17,\n",
        "    \"name\": \"신해림\",\n",
        "    \"menu\": []\n",
        "  },\n",
        "  {\n",
        "    \"id\": 18,\n",
        "    \"name\": \"한솥(동양미래대점)\",\n",
        "    \"menu\": [\n",
        "      {\n",
        "        \"name\": \"매화\",\n",
        "        \"price\": 10500\n",
        "      },\n",
        "      {\n",
        "        \"name\": \"진달래\",\n",
        "        \"price\": 7800\n",
        "      },\n",
        "      {\n",
        "        \"name\": \"개나리\",\n",
        "        \"price\": 8500\n",
        "      },\n",
        "      {\n",
        "        \"name\": \"새치고기고기\",\n",
        "        \"price\": 7000\n",
        "      },\n",
        "      {\n",
        "        \"name\": \"돈치고기고기\",\n",
        "        \"price\": 6000\n",
        "      },\n",
        "      {\n",
        "        \"name\": \"숯불직화구이\",\n",
        "        \"price\": 6600\n",
        "      }\n",
        "    ]\n",
        "  },\n",
        "  {\n",
        "    \"id\": 19,\n",
        "    \"name\": \"(주)본푸드시스템\",\n",
        "    \"menu\": \"\"\n",
        "  },\n",
        "  {\n",
        "    \"id\": 20,\n",
        "    \"name\": \"매일손순대\",\n",
        "    \"menu\": []\n",
        "  }\n",
        "]"
      ],
      "metadata": {
        "id": "ACOnIku3y1Rx"
      },
      "execution_count": null,
      "outputs": []
    },
    {
      "cell_type": "markdown",
      "source": [
        "# 시연 - 방문했던 데이터로 군집화\n"
      ],
      "metadata": {
        "id": "Dd_MMXjpyGkj"
      }
    },
    {
      "cell_type": "code",
      "source": [
        "# 딱 1번만 실행돼야 하는 셀 -> 다시 실행하면 random_gu가 바뀜\n",
        "# 거주하는 구를 랜덤으로 지정 -> 0.3% 비율로 그 구의 visited를 1로 바꿈\n",
        "\n",
        "방문df = pd.DataFrame(df)\n",
        "random_gu = random.choice(방문df['구'].unique())\n",
        "selected_indices = 방문df[방문df['구'] == random_gu].sample(frac=0.03).index\n",
        "방문df.loc[selected_indices, 'visited'] = 1\n",
        "\n",
        "print(방문df.head())\n",
        "print(random_gu)"
      ],
      "metadata": {
        "id": "dtVSXJJzkpjv",
        "colab": {
          "base_uri": "https://localhost:8080/"
        },
        "outputId": "c4f2b9ef-fa89-46a9-ade7-32034236ecfa"
      },
      "execution_count": null,
      "outputs": [
        {
          "output_type": "stream",
          "name": "stdout",
          "text": [
            "   연번      업종     가맹점명칭                                   주소    구  visited\n",
            "0   1      한식  청숫골보리밥쌈밥                 강남구  청담1동 76-4  지하1층  강남구        0\n",
            "1   2  일반대중음식      도야족발     강남구  개포3동 186-17번지  개포종합상가  117호  강남구        0\n",
            "2   3  일반대중음식      페리카나   강남구  강남대로128길 27    (논현동,지상1층102호)  강남구        0\n",
            "3   4     편의점   씨유  대치점               강남구  대치3동 946-16번지  1층  강남구        0\n",
            "4   5      양식      미피아체              강남구  청담2동 97-22  삼영빌딩1층  강남구        0\n",
            "구로구\n"
          ]
        }
      ]
    },
    {
      "cell_type": "code",
      "source": [
        "# 이거 실행하고 나온 값으로 모듈에 넣으면 됨\n",
        "\n",
        "visited_restaurants = 방문df[방문df['visited'] == 1]\n",
        "\n",
        "방문corpus = []\n",
        "\n",
        "if not visited_restaurants.empty:\n",
        "    most_common_category = visited_restaurants['업종'].mode()[0]\n",
        "    filtered_data = visited_restaurants[(visited_restaurants['구'] == random_gu) & (visited_restaurants['업종'] == most_common_category)]\n",
        "\n",
        "    if not filtered_data.empty:\n",
        "        for idx, row in enumerate(filtered_data.itertuples(), start=1):\n",
        "            방문corpus.append({\n",
        "                '연번': row.연번,\n",
        "                '구': row.구,\n",
        "                '가맹점명칭': row.가맹점명칭\n",
        "            })\n",
        "\n",
        "print(방문corpus)"
      ],
      "metadata": {
        "id": "lyf7OW98lUFh",
        "colab": {
          "base_uri": "https://localhost:8080/"
        },
        "outputId": "db2f03d1-2d1c-4cb5-9217-22078b79fe3d"
      },
      "execution_count": null,
      "outputs": [
        {
          "output_type": "stream",
          "name": "stdout",
          "text": [
            "[{'연번': 32094, '구': '구로구', '가맹점명칭': '김형제고기의철학 구로디지털단지역점'}, {'연번': 32115, '구': '구로구', '가맹점명칭': '족발야시장 구로항동점'}, {'연번': 32252, '구': '구로구', '가맹점명칭': '화평동왕냉면  황제갈비'}, {'연번': 32274, '구': '구로구', '가맹점명칭': '닷컴분식'}, {'연번': 32452, '구': '구로구', '가맹점명칭': '히죽히죽'}, {'연번': 32471, '구': '구로구', '가맹점명칭': '바르다 김선생 신도림역점'}, {'연번': 32540, '구': '구로구', '가맹점명칭': '철판오징어'}, {'연번': 32589, '구': '구로구', '가맹점명칭': '박가네초두부'}, {'연번': 32599, '구': '구로구', '가맹점명칭': '바르다김선생신도림포스빌점'}, {'연번': 32734, '구': '구로구', '가맹점명칭': '전라도매생이칼국수'}, {'연번': 32877, '구': '구로구', '가맹점명칭': '여수집'}, {'연번': 32947, '구': '구로구', '가맹점명칭': '고기천왕'}, {'연번': 33065, '구': '구로구', '가맹점명칭': '호남식당'}, {'연번': 33127, '구': '구로구', '가맹점명칭': '은봉이네'}, {'연번': 33208, '구': '구로구', '가맹점명칭': '김밥세상'}, {'연번': 33290, '구': '구로구', '가맹점명칭': '동글이  떡볶이'}, {'연번': 33295, '구': '구로구', '가맹점명칭': '장군이네 차돌김치찜'}, {'연번': 33561, '구': '구로구', '가맹점명칭': '부산사나이레시피국밥'}, {'연번': 33567, '구': '구로구', '가맹점명칭': '전주식당'}, {'연번': 33697, '구': '구로구', '가맹점명칭': '김밥천국'}, {'연번': 33707, '구': '구로구', '가맹점명칭': '오봉집'}, {'연번': 33810, '구': '구로구', '가맹점명칭': '왕뼈 감자탕'}, {'연번': 33825, '구': '구로구', '가맹점명칭': '정겨운양은냄비 본점'}, {'연번': 33829, '구': '구로구', '가맹점명칭': '좀비곱창'}, {'연번': 33999, '구': '구로구', '가맹점명칭': '한국황칠갈비탕'}, {'연번': 34020, '구': '구로구', '가맹점명칭': '뜸들이다'}, {'연번': 34065, '구': '구로구', '가맹점명칭': '정식당'}, {'연번': 34189, '구': '구로구', '가맹점명칭': '한결같이 김돈나라'}, {'연번': 34190, '구': '구로구', '가맹점명칭': '보쌈주는족발집 본점'}, {'연번': 34211, '구': '구로구', '가맹점명칭': '제이디푸드'}, {'연번': 34245, '구': '구로구', '가맹점명칭': '텃골순대국'}, {'연번': 34340, '구': '구로구', '가맹점명칭': '육감만족 오류역점'}, {'연번': 34342, '구': '구로구', '가맹점명칭': '황제꽃소'}, {'연번': 34349, '구': '구로구', '가맹점명칭': '타코네'}, {'연번': 34355, '구': '구로구', '가맹점명칭': '주식회사 조마루'}, {'연번': 34367, '구': '구로구', '가맹점명칭': '골목숯불구이'}, {'연번': 34544, '구': '구로구', '가맹점명칭': '독도어시장'}, {'연번': 34608, '구': '구로구', '가맹점명칭': '한솥(신도림e편한세상점)'}, {'연번': 34708, '구': '구로구', '가맹점명칭': '기분좋아구찜'}, {'연번': 34811, '구': '구로구', '가맹점명칭': '토백이감자탕'}, {'연번': 34866, '구': '구로구', '가맹점명칭': '김가네'}, {'연번': 34879, '구': '구로구', '가맹점명칭': '어사출또 신도림점'}, {'연번': 34902, '구': '구로구', '가맹점명칭': '홍가네'}, {'연번': 34949, '구': '구로구', '가맹점명칭': '만나식당'}, {'연번': 34950, '구': '구로구', '가맹점명칭': '행복한집'}, {'연번': 34960, '구': '구로구', '가맹점명칭': '판교집'}, {'연번': 35014, '구': '구로구', '가맹점명칭': '남도이모네'}, {'연번': 35141, '구': '구로구', '가맹점명칭': '광덕구이마당'}, {'연번': 35145, '구': '구로구', '가맹점명칭': '놀부맑은설렁탕담다'}]\n"
          ]
        }
      ]
    },
    {
      "cell_type": "code",
      "source": [
        "# 위에 \"데이터 (랜덤 추출 - 추천을 위해)\"에 있는 데이터에 모듈 출력값 넣고 시작\n",
        "\n",
        "cleaned_방문data = []\n",
        "\n",
        "def remove_special_characters_visited(text):\n",
        "    special_characters_pattern = re.compile(r'[^가-힣]')\n",
        "    return special_characters_pattern.sub('', text)\n",
        "\n",
        "def preprocess_name_visited(name):\n",
        "    processed_name = remove_special_characters_visited(name)\n",
        "    processed_name = re.sub(r'\\(소\\)|\\(중\\)|\\(대\\)|인분|포장', '', processed_name)\n",
        "\n",
        "    return processed_name\n",
        "\n",
        "\n",
        "for i in range(0, len(data)):\n",
        "    if (data[i]['menu'] != '') and (data[i]['menu'] != []):\n",
        "        cleaned_방문data.extend(data[i]['menu'])\n",
        "\n",
        "\n",
        "for item in cleaned_방문data:\n",
        "    item['name'] = preprocess_name_visited(item['name'])\n",
        "\n",
        "print(cleaned_방문data)"
      ],
      "metadata": {
        "colab": {
          "base_uri": "https://localhost:8080/"
        },
        "id": "JZFr50K9208U",
        "outputId": "08fe5bf6-850a-4b2e-b2a1-b4cbdb400e54"
      },
      "execution_count": null,
      "outputs": [
        {
          "output_type": "stream",
          "name": "stdout",
          "text": [
            "[{'name': '떡볶이', 'price': 3000}, {'name': '순대', 'price': 3500}, {'name': '라면', 'price': 3500}, {'name': '김밥', 'price': 2500}, {'name': '오뎅', 'price': 700}, {'name': '떡볶이소튀김', 'price': 4500}, {'name': '떡볶이중튀김', 'price': 5500}, {'name': '떡볶이소딸기생과일', 'price': 5500}, {'name': '토마토생과일', 'price': 3000}, {'name': '천도복숭아생과일', 'price': 3000}, {'name': '왕뼈묵은지찜작은', 'price': 15000}, {'name': '묵은지찌개작은', 'price': 14000}, {'name': '닭한마리찌개반마리', 'price': 15000}, {'name': '얼큰동태찌개작은', 'price': 16000}, {'name': '돼지두부치기작은', 'price': 14000}, {'name': '야채곱창볶음', 'price': 10000}, {'name': '순대볶음', 'price': 9500}, {'name': '순대곱창볶음', 'price': 10500}, {'name': '통마늘알곱창', 'price': 11000}, {'name': '불치즈알곱창', 'price': 12000}, {'name': '치즈곱창', 'price': 12000}, {'name': '순대국', 'price': 8000}, {'name': '순대탕', 'price': 8000}, {'name': '창고비국', 'price': 9000}, {'name': '감투국', 'price': 9000}, {'name': '술국', 'price': 14000}, {'name': '앞다리', 'price': 37000}, {'name': '뒷다리', 'price': 33000}, {'name': '보쌈대', 'price': 37000}, {'name': '보쌈중', 'price': 33000}, {'name': '직화불족발', 'price': 37000}, {'name': '반반족발대', 'price': 48000}, {'name': '제주오겹살', 'price': 15000}, {'name': '돼지왕구이', 'price': 16000}, {'name': '벌집삼겹살', 'price': 13000}, {'name': '돼지껍데기', 'price': 7000}, {'name': '소갈비살', 'price': 12000}, {'name': '닭뼈구이', 'price': 12000}, {'name': '양꼬치', 'price': 10000}, {'name': '소꼬치', 'price': 12000}, {'name': '양갈비구이', 'price': 15000}, {'name': '매화', 'price': 10500}, {'name': '진달래', 'price': 7800}, {'name': '개나리', 'price': 8500}, {'name': '새치고기고기', 'price': 7000}, {'name': '돈치고기고기', 'price': 6000}, {'name': '숯불직화구이', 'price': 6600}, {'name': '대방어', 'price': 40000}, {'name': '광어중', 'price': 20000}, {'name': '참돔중', 'price': 25000}, {'name': '전복', 'price': 20000}, {'name': '아나고', 'price': 30000}, {'name': '한돈급생삼겹살', 'price': 13000}, {'name': '솔트에이징특소고기', 'price': 83000}, {'name': '솔트에이징돼지모듬', 'price': 28000}, {'name': '반건조생선찜소', 'price': 28000}, {'name': '동태내장전골소', 'price': 28000}, {'name': '생삼겹살인', 'price': 12000}, {'name': '오징어볶음', 'price': 8000}, {'name': '알탕', 'price': 8000}, {'name': '맑은설렁탕보통', 'price': 9000}, {'name': '맑은낙지설렁탕보통', 'price': 12000}, {'name': '얼큰설렁탕보통', 'price': 10000}, {'name': '사골설렁탕보통', 'price': 9000}, {'name': '황태설렁탕', 'price': 10000}]\n"
          ]
        }
      ]
    },
    {
      "cell_type": "code",
      "source": [
        "# 벡터화\n",
        "\n",
        "방문name_tokens = [item['name'].split() for item in cleaned_방문data]\n",
        "\n",
        "방문model = Word2Vec(sentences=방문name_tokens, vector_size=100, window=5, min_count=1, workers=4)\n",
        "\n",
        "방문word_vectors = {word: 방문model.wv[word] for word in 방문model.wv.index_to_key}\n",
        "방문name_vectors = [np.mean([방문word_vectors[word] for word in tokens], axis=0) for tokens in 방문name_tokens]"
      ],
      "metadata": {
        "id": "P90PfhIwJk_f"
      },
      "execution_count": null,
      "outputs": []
    },
    {
      "cell_type": "code",
      "source": [
        "# 군집화\n",
        "\n",
        "num_clusters = 3\n",
        "\n",
        "방문kmeans = KMeans(n_clusters=num_clusters, random_state=42)\n",
        "방문kmeans.fit(방문name_vectors)\n",
        "\n",
        "방문cluster_labels = 방문kmeans.labels_\n",
        "방문name_vectors_np = np.array(방문name_vectors)\n",
        "\n",
        "\n",
        "방문cluster_centers = 방문kmeans.cluster_centers_\n",
        "print(방문cluster_centers)"
      ],
      "metadata": {
        "id": "b24kpNGrAEeh",
        "colab": {
          "base_uri": "https://localhost:8080/"
        },
        "outputId": "c45fc803-2923-43e2-996c-612087e47c87"
      },
      "execution_count": null,
      "outputs": [
        {
          "output_type": "stream",
          "name": "stdout",
          "text": [
            "[[ 6.5734808e-04  2.8266134e-03 -6.0820271e-04 -1.2431048e-03\n",
            "   6.6122977e-04 -3.9260820e-03  1.8774405e-03  4.0941392e-03\n",
            "  -1.4023026e-03 -5.0700116e-03  1.1989400e-03 -3.2780999e-03\n",
            "   3.3471588e-06 -1.9707478e-04  3.5161895e-03  3.9303175e-04\n",
            "   1.4106320e-03  2.9737453e-03 -1.0674536e-04  1.1013588e-05\n",
            "   2.5547720e-03 -3.5061480e-03 -4.2598537e-04 -3.2005005e-04\n",
            "  -1.9752921e-03  5.0635636e-04 -2.0818799e-03 -2.7097729e-03\n",
            "   1.2879539e-03  4.1207917e-05 -9.1285561e-04 -4.6185963e-04\n",
            "   3.3375027e-04 -2.1710745e-03  1.2472449e-03  1.6941462e-04\n",
            "   1.3305177e-03  1.9165291e-03  3.8850115e-04  1.0997246e-03\n",
            "   7.0996460e-04 -1.2201467e-03  4.1537210e-03  1.0119071e-03\n",
            "   2.7748841e-04 -1.8339513e-03 -5.4085569e-05 -1.3808332e-03\n",
            "   2.1538774e-03  2.8846547e-04  7.3502201e-04 -8.7917334e-04\n",
            "   4.2714036e-04 -2.5325990e-03  1.0359061e-03 -1.3495167e-04\n",
            "   3.6496515e-03  2.4607105e-03  1.7568268e-03  2.2892165e-03\n",
            "  -5.2703050e-05  2.1349228e-04  5.0339208e-05  1.3976868e-03\n",
            "   4.4532644e-05  2.6030743e-03 -8.8449864e-04  1.1448278e-03\n",
            "   9.0081955e-04 -2.2357642e-03 -9.1376377e-04 -2.3577511e-03\n",
            "   2.0450829e-03  1.2955929e-03  3.7152227e-03  5.3187722e-04\n",
            "   1.7469791e-04  2.3779636e-03  3.1298335e-04  4.4212528e-04\n",
            "  -2.3164339e-03  1.6586717e-03  5.0897326e-04  1.9122609e-03\n",
            "   8.2590594e-04  6.6163472e-04  1.5040943e-03  1.3033719e-03\n",
            "   2.2381458e-03 -1.2718575e-03  2.3652394e-03 -4.6757574e-05\n",
            "   9.5675589e-04 -5.0191267e-04  2.9452036e-03  6.5246812e-04\n",
            "   1.1193937e-03 -1.9675554e-03 -8.3770533e-04 -7.0429000e-04]\n",
            " [ 1.5862681e-03  5.7118472e-05 -1.3542064e-03 -1.4651774e-03\n",
            "  -2.1360849e-03  1.2299473e-03  8.9658774e-04  5.7209714e-04\n",
            "  -8.9002529e-04  1.0824729e-03 -1.1705384e-03  1.1768660e-03\n",
            "   2.3561946e-04 -1.3648364e-04 -1.6212061e-03 -2.7775045e-03\n",
            "   1.8075627e-03 -1.0421365e-03 -8.0440100e-04 -1.4665063e-03\n",
            "   1.4808753e-03 -9.2760281e-05  2.8698319e-03 -1.9129431e-03\n",
            "  -8.1147067e-04 -1.1972415e-03 -4.5073760e-04 -8.9909264e-04\n",
            "  -1.8160179e-05  1.8530814e-03  1.3002326e-03  2.7530087e-04\n",
            "   2.0303817e-03 -2.7306199e-03  1.8868828e-05  4.8663275e-04\n",
            "  -2.5014747e-03 -4.2028335e-04 -2.5849405e-03 -1.7362407e-03\n",
            "  -8.3699757e-05 -3.0842319e-05  9.3596877e-04 -9.9113386e-06\n",
            "  -3.3701977e-04 -8.8781258e-04  7.3516177e-04 -2.4109678e-03\n",
            "   2.9666151e-04  7.2982308e-04  8.1655651e-04 -1.3365191e-03\n",
            "  -7.8131678e-04 -5.6932715e-04 -1.4079831e-03 -9.5633126e-04\n",
            "  -6.6647731e-04 -8.1116427e-04 -1.5371112e-03 -1.2642496e-03\n",
            "   2.3450882e-03 -2.0627540e-03  8.9168036e-04  6.6220574e-04\n",
            "  -8.4611581e-04  1.9804158e-03  7.3403254e-04  1.2699165e-04\n",
            "  -4.5436481e-03  2.0581188e-03 -7.6209189e-04  6.8733271e-04\n",
            "   1.2103546e-03 -2.9155672e-06  2.3070711e-04 -9.4675471e-04\n",
            "   1.5415413e-03  3.3137930e-04 -1.9869853e-03  1.4361353e-03\n",
            "  -1.2312533e-03 -7.8926860e-08 -3.4854808e-03  1.7846550e-04\n",
            "  -1.4558879e-03 -3.4959202e-03  1.0071893e-03  6.9059449e-04\n",
            "  -1.0655090e-03  1.2619467e-03  1.6156266e-03 -1.5275042e-03\n",
            "  -1.2297200e-03 -1.1299067e-03 -7.9077180e-04 -1.3354814e-03\n",
            "   1.8996370e-04  1.3335105e-03 -3.9632811e-04 -3.2392697e-04]\n",
            " [-1.4492116e-03 -2.1050326e-03  5.5579568e-04  3.2368798e-03\n",
            "   1.7986435e-03 -2.5297217e-03 -9.6174481e-04  1.1752592e-03\n",
            "   8.0349448e-05 -1.4581674e-03 -1.2304258e-04 -3.0070571e-03\n",
            "  -7.1405419e-05  2.8054835e-03  1.5468211e-03  8.1643835e-04\n",
            "  -2.5843508e-03 -2.8989722e-03  9.6461351e-04 -2.0609174e-03\n",
            "  -6.8021216e-04  3.8244913e-03 -5.7918701e-04  6.1853963e-05\n",
            "   2.0718095e-03 -3.6549260e-04 -1.6752662e-03  1.8776943e-03\n",
            "  -2.2876842e-03 -2.3105163e-03  1.5811156e-03 -4.7739604e-04\n",
            "   1.1082052e-03 -2.2206607e-04 -1.8682994e-03  1.3172104e-03\n",
            "   1.0511689e-03  4.9374503e-04  4.1651347e-04 -1.1269973e-03\n",
            "  -1.7910160e-04 -6.5145688e-04 -3.4991447e-03  1.7716110e-04\n",
            "   1.6533724e-03  7.2495668e-04 -2.8770803e-03  1.0426679e-03\n",
            "  -6.9201022e-04  9.9731842e-04 -1.0305998e-04 -1.5703659e-04\n",
            "   8.8116591e-05  3.8850144e-04  2.5811796e-03  8.9392904e-04\n",
            "  -1.1054531e-04 -1.3786656e-03 -2.5379049e-04  9.1850210e-04\n",
            "  -1.7671040e-03  1.1368901e-03  5.4892490e-04  2.0929513e-04\n",
            "  -9.6442556e-04 -5.4822629e-04 -2.3979517e-03  1.7359059e-03\n",
            "  -1.8430059e-05  1.6047343e-03  5.2328408e-04  1.9673856e-03\n",
            "   1.5675620e-03 -1.1492005e-03  1.6766714e-03 -1.9865509e-03\n",
            "  -1.0729849e-03 -2.2023264e-03  3.9194303e-04 -2.2271166e-03\n",
            "   1.5280244e-04 -1.3129031e-03 -1.2281681e-03  1.9608135e-03\n",
            "  -1.2364451e-04  2.2279033e-03  8.2642364e-05 -9.3650504e-04\n",
            "   1.7858790e-03  9.9029590e-04  6.1204645e-04  1.2167370e-03\n",
            "   8.4294390e-04  2.6203932e-03  1.2339276e-03  3.2593471e-03\n",
            "  -2.3123864e-03  1.1865194e-03 -2.7448311e-04 -1.0301492e-03]]\n"
          ]
        },
        {
          "output_type": "stream",
          "name": "stderr",
          "text": [
            "/usr/local/lib/python3.10/dist-packages/sklearn/cluster/_kmeans.py:870: FutureWarning: The default value of `n_init` will change from 10 to 'auto' in 1.4. Set the value of `n_init` explicitly to suppress the warning\n",
            "  warnings.warn(\n"
          ]
        }
      ]
    },
    {
      "cell_type": "code",
      "source": [
        "# 시각화\n",
        "\n",
        "plt.rc('font', family='NanumBarunGothic')\n",
        "\n",
        "plt.figure(figsize=(16, 8))\n",
        "plt.scatter(방문name_vectors_np[:, 0], 방문name_vectors_np[:, 1], c=방문cluster_labels, cmap='viridis', alpha=0.8)\n",
        "plt.scatter(방문kmeans.cluster_centers_[:, 0], 방문kmeans.cluster_centers_[:, 1], marker='x', s=100, c='red', label='Cluster Centers')\n",
        "plt.title('Clustered Data with KMeans (방문)')\n",
        "plt.xlabel('Dimension 1')\n",
        "plt.ylabel('Dimension 2')\n",
        "\n",
        "# 각 데이터 포인트에 대표 메뉴명 어노테이션 추가\n",
        "for i, label in enumerate(방문cluster_labels):\n",
        "    menu_name = cleaned_방문data[i]['name']\n",
        "    plt.annotate(f'{menu_name}\\nCluster {label + 1}', (방문name_vectors_np[i, 0], 방문name_vectors_np[i, 1]), alpha=0.5)\n",
        "\n",
        "plt.legend()\n",
        "plt.show()"
      ],
      "metadata": {
        "id": "urFP9V6C8wSM"
      },
      "execution_count": null,
      "outputs": []
    },
    {
      "cell_type": "markdown",
      "source": [
        "# 시연 - 예측 데이터로 군집화"
      ],
      "metadata": {
        "id": "iXHlxqcJyOQ6"
      }
    },
    {
      "cell_type": "code",
      "source": [
        "예측df = pd.DataFrame(방문df)\n",
        "selected_rows = 예측df[(예측df['visited'] == 0) & (예측df['업종'] == most_common_category) & (예측df['구'] == random_gu)]\n",
        "\n",
        "if len(selected_rows) >= 20:\n",
        "    selected_rows = selected_rows.sample(20, random_state=42)\n",
        "\n",
        "new_df = pd.DataFrame({\n",
        "    '연번': selected_rows['연번'],\n",
        "    '가맹점명칭': selected_rows['가맹점명칭'],\n",
        "    '구': selected_rows['구']\n",
        "})\n",
        "\n",
        "json_result = new_df.to_json(orient='records', force_ascii=False)\n",
        "print(json_result)"
      ],
      "metadata": {
        "id": "aD27ncTXUCuI",
        "colab": {
          "base_uri": "https://localhost:8080/"
        },
        "outputId": "32eaa06e-2da2-44f7-bbb9-3aeb199b0f43"
      },
      "execution_count": null,
      "outputs": [
        {
          "output_type": "stream",
          "name": "stdout",
          "text": [
            "[{\"연번\":33125,\"가맹점명칭\":\"케이먹방제이프로(K먹방J프로)\",\"구\":\"구로구\"},{\"연번\":32768,\"가맹점명칭\":\"고돼지\",\"구\":\"구로구\"},{\"연번\":32403,\"가맹점명칭\":\"중앙올리브\",\"구\":\"구로구\"},{\"연번\":32294,\"가맹점명칭\":\"애플김밥\",\"구\":\"구로구\"},{\"연번\":34045,\"가맹점명칭\":\"한옥집 육곳간\",\"구\":\"구로구\"},{\"연번\":35315,\"가맹점명칭\":\"춘천닭갈비\",\"구\":\"구로구\"},{\"연번\":34714,\"가맹점명칭\":\"용선생\",\"구\":\"구로구\"},{\"연번\":32547,\"가맹점명칭\":\"밤비네\",\"구\":\"구로구\"},{\"연번\":33053,\"가맹점명칭\":\"청원국민통닭\",\"구\":\"구로구\"},{\"연번\":33399,\"가맹점명칭\":\"대박순두부\",\"구\":\"구로구\"},{\"연번\":33107,\"가맹점명칭\":\"장터식당\",\"구\":\"구로구\"},{\"연번\":34404,\"가맹점명칭\":\"웅이네 오돌뼈 구로4동점\",\"구\":\"구로구\"},{\"연번\":34095,\"가맹점명칭\":\"부뚜막청국장\",\"구\":\"구로구\"},{\"연번\":35397,\"가맹점명칭\":\"소담\",\"구\":\"구로구\"},{\"연번\":33260,\"가맹점명칭\":\"돼지집\",\"구\":\"구로구\"},{\"연번\":32130,\"가맹점명칭\":\"윤식당\",\"구\":\"구로구\"},{\"연번\":32074,\"가맹점명칭\":\"신해림 우육면\",\"구\":\"구로구\"},{\"연번\":33997,\"가맹점명칭\":\"한솥(동양미래대점)\",\"구\":\"구로구\"},{\"연번\":32786,\"가맹점명칭\":\"(주)본푸드시스템 본까스 황금의제국점\",\"구\":\"구로구\"},{\"연번\":34502,\"가맹점명칭\":\"매일손순대\",\"구\":\"구로구\"}]\n"
          ]
        }
      ]
    },
    {
      "cell_type": "code",
      "source": [
        "cleaned_예측data = []\n",
        "\n",
        "def remove_special_characters_expect(text):\n",
        "    special_characters_pattern = re.compile(r'[^가-힣]')\n",
        "    return special_characters_pattern.sub('', text)\n",
        "\n",
        "def preprocess_name_expect(name):\n",
        "    processed_name = remove_special_characters_expect(name)\n",
        "    processed_name = re.sub(r'\\(소\\)|\\(중\\)|\\(대\\)|인분|포장', '', processed_name)\n",
        "\n",
        "    return processed_name\n",
        "\n",
        "\n",
        "for i in range(0, len(random_data)):\n",
        "    if (random_data[i]['menu'] != '') and (random_data[i]['menu'] != []):\n",
        "        cleaned_예측data.extend(random_data[i]['menu'])\n",
        "\n",
        "\n",
        "for item in cleaned_예측data:\n",
        "    item['name'] = preprocess_name_expect(item['name'])\n",
        "\n",
        "print(cleaned_예측data)"
      ],
      "metadata": {
        "colab": {
          "base_uri": "https://localhost:8080/"
        },
        "id": "tjQLFwGWYRHI",
        "outputId": "36feee6c-36ea-4233-b7ff-75da2eed949f"
      },
      "execution_count": null,
      "outputs": [
        {
          "output_type": "stream",
          "name": "stdout",
          "text": [
            "[{'name': '진눈꽃살', 'price': 27000}, {'name': '살치눈꽃살', 'price': 23000}, {'name': '등심', 'price': 18000}, {'name': '갈비살', 'price': 15000}, {'name': '양념갈비', 'price': 25000}, {'name': '마리', 'price': 4500}, {'name': '', 'price': 2}, {'name': '마리', 'price': 8000}, {'name': '', 'price': 3}, {'name': '마리', 'price': 11000}, {'name': '닭똥집', 'price': 6000}, {'name': '해물순두부', 'price': 7000}, {'name': '만두순두부', 'price': 7000}, {'name': '김치순두부', 'price': 7000}, {'name': '치즈순두부', 'price': 7000}, {'name': '곱창순두부', 'price': 7000}, {'name': '매화', 'price': 10500}, {'name': '진달래', 'price': 7800}, {'name': '개나리', 'price': 8500}, {'name': '새치고기고기', 'price': 7000}, {'name': '돈치고기고기', 'price': 6000}, {'name': '숯불직화구이', 'price': 6600}]\n"
          ]
        }
      ]
    },
    {
      "cell_type": "code",
      "source": [
        "# 벡터화\n",
        "\n",
        "예측name_tokens = [item['name'].split() for item in cleaned_예측data]\n",
        "\n",
        "예측model = Word2Vec(sentences=예측name_tokens, vector_size=100, window=5, min_count=1, workers=4)\n",
        "\n",
        "예측word_vectors = {word: 예측model.wv[word] for word in 예측model.wv.index_to_key}\n",
        "예측name_vectors = [np.mean([예측word_vectors[word] for word in tokens], axis=0) for tokens in 예측name_tokens]\n",
        "\n",
        "예측name_vectors = []\n",
        "for tokens in 예측name_tokens:\n",
        "    word_vectors = [예측word_vectors[word] for word in tokens if word in 예측word_vectors]\n",
        "    if word_vectors:\n",
        "        예측name_vectors.append(np.mean(word_vectors, axis=0))\n",
        "\n",
        "# 결과 출력\n",
        "print(예측name_vectors)"
      ],
      "metadata": {
        "id": "i9fCpl-_HQtA"
      },
      "execution_count": null,
      "outputs": []
    },
    {
      "cell_type": "code",
      "source": [
        "# 군집화\n",
        "\n",
        "num_clusters = 3\n",
        "\n",
        "예측kmeans = KMeans(n_clusters=num_clusters, random_state=42)\n",
        "예측kmeans.fit(예측name_vectors)\n",
        "\n",
        "예측cluster_labels = 예측kmeans.labels_\n",
        "예측name_vectors_np = np.array(예측name_vectors)\n",
        "\n",
        "예측cluster_centers = 예측kmeans.cluster_centers_\n",
        "print(예측cluster_centers)"
      ],
      "metadata": {
        "id": "rzpsPlD7HQ41"
      },
      "execution_count": null,
      "outputs": []
    },
    {
      "cell_type": "code",
      "source": [
        "# 시각화\n",
        "\n",
        "plt.rc('font', family='NanumBarunGothic')\n",
        "\n",
        "plt.figure(figsize=(16, 8))\n",
        "plt.scatter(예측name_vectors_np[:, 0], 예측name_vectors_np[:, 1], c=예측cluster_labels, cmap='viridis', alpha=0.8)\n",
        "plt.scatter(예측kmeans.cluster_centers_[:, 0], 예측kmeans.cluster_centers_[:, 1], marker='x', s=100, c='red', label='Cluster Centers')\n",
        "plt.title('Clustered Data with KMeans (예측)')\n",
        "plt.xlabel('Dimension 1')\n",
        "plt.ylabel('Dimension 2')\n",
        "\n",
        "# 각 데이터 포인트에 대표 메뉴명 어노테이션 추가\n",
        "for i, label in enumerate(예측cluster_labels):\n",
        "    menu_name = cleaned_예측data[i]['name']\n",
        "    plt.annotate(f'{menu_name}\\nCluster {label + 1}', (예측name_vectors_np[i, 0], 예측name_vectors_np[i, 1]), alpha=0.5)\n",
        "\n",
        "plt.legend()\n",
        "plt.show()"
      ],
      "metadata": {
        "id": "HSuX047OTfta"
      },
      "execution_count": null,
      "outputs": []
    },
    {
      "cell_type": "markdown",
      "source": [
        "# 시연 - 코사인 유사도 계산"
      ],
      "metadata": {
        "id": "GkIREnZQXg8N"
      }
    },
    {
      "cell_type": "code",
      "source": [
        "# 넘파이 배열로 바꾸고 코사인 유사도 계산\n",
        "\n",
        "방문_vectors = np.array(방문cluster_centers)\n",
        "cosine_similarities = []\n",
        "\n",
        "for vector_A in 예측name_vectors:\n",
        "    similarities_for_A = [np.dot(vector_A, vector_B) / (np.linalg.norm(vector_A) * np.linalg.norm(vector_B)) for vector_B in 방문_vectors]\n",
        "    cosine_similarities.append(similarities_for_A)\n",
        "\n",
        "cosine_similarities = np.array(cosine_similarities)\n",
        "print(cosine_similarities)"
      ],
      "metadata": {
        "colab": {
          "base_uri": "https://localhost:8080/"
        },
        "id": "pnYzwh8ULXvh",
        "outputId": "d52e1950-fe96-48e6-c6b7-51fdfbafd0bc"
      },
      "execution_count": null,
      "outputs": [
        {
          "output_type": "stream",
          "name": "stdout",
          "text": [
            "[[ 0.56560045 -0.08325601 -0.0347071 ]\n",
            " [ 0.32284427 -0.0594662  -0.23722252]\n",
            " [-0.09045524  0.265794   -0.14422274]\n",
            " [ 0.06127922  0.13394429 -0.0724302 ]\n",
            " [-0.04114961  0.42132252 -0.09277576]\n",
            " [ 0.03097451 -0.00530738  0.39437068]\n",
            " [ 0.03097451 -0.00530738  0.39437068]\n",
            " [ 0.03097451 -0.00530738  0.39437068]\n",
            " [ 0.13731168  0.19104658  0.09153517]\n",
            " [-0.03541242 -0.02117484  0.2793747 ]\n",
            " [-0.18884069 -0.20120649  0.44341472]\n",
            " [ 0.15424415 -0.00935467  0.00878316]\n",
            " [ 0.1966359   0.25057092  0.00105782]\n",
            " [ 0.00533226  0.18012276 -0.03724477]\n",
            " [ 0.2606865  -0.01190468 -0.15651873]\n",
            " [ 0.40834105 -0.02630347 -0.10935833]\n",
            " [-0.0437295  -0.16352636  0.24333227]\n",
            " [-0.12464443  0.05030512  0.41571102]\n",
            " [-0.04695895  0.232029   -0.01442151]\n",
            " [ 0.2832388  -0.17756292  0.08170503]]\n"
          ]
        }
      ]
    },
    {
      "cell_type": "code",
      "source": [
        "# 추천해주는 부분\n",
        "\n",
        "all_cosine_similarities = np.dot(방문_vectors, 예측name_vectors.T) / (np.linalg.norm(방문_vectors, axis=1)[:, None] * np.linalg.norm(예측name_vectors, axis=1))\n",
        "\n",
        "for i, 방문_vector in enumerate(방문_vectors):\n",
        "    top_indices = np.argsort(all_cosine_similarities[i])[-3:][::-1]  # 상위 3개 인덱스 가져오기\n",
        "\n",
        "    top_menus = [{\"name\": cleaned_예측data[index]['name'], \"price\": cleaned_예측data[index]['price']} for index in top_indices if cleaned_예측data[index]['price'] <= 8000]\n",
        "\n",
        "    print(f\"\\n클러스터 {i + 1}에 대한 예측 메뉴 추천:\", end=\"\\n\")\n",
        "    for j, top_menu in enumerate(top_menus):\n",
        "      target_menu = top_menu['name']\n",
        "\n",
        "      for restaurant in random_data:\n",
        "          for menu_item in restaurant[\"menu\"]:\n",
        "              if menu_item[\"name\"] == target_menu:\n",
        "                  print(f\"{restaurant['name']}에서 파는 '{target_menu}'을 추천합니다.\")\n",
        "                  print(f\"가격: {menu_item['price']}\")\n",
        "                  break\n"
      ],
      "metadata": {
        "colab": {
          "base_uri": "https://localhost:8080/"
        },
        "id": "nJ_CHIxaPNWe",
        "outputId": "0cbf5357-70c5-4b08-f2de-7798d17db103"
      },
      "execution_count": null,
      "outputs": [
        {
          "output_type": "stream",
          "name": "stdout",
          "text": [
            "\n",
            "클러스터 1에 대한 예측 메뉴 추천:\n",
            "대박순두부에서 파는 '곱창순두부'을 추천합니다.\n",
            "가격: 7000\n",
            "\n",
            "클러스터 2에 대한 예측 메뉴 추천:\n",
            "대박순두부에서 파는 '만두순두부'을 추천합니다.\n",
            "가격: 7000\n",
            "\n",
            "클러스터 3에 대한 예측 메뉴 추천:\n",
            "청원국민통닭에서 파는 '닭똥집'을 추천합니다.\n",
            "가격: 6000\n",
            "한솥(동양미래대점)에서 파는 '진달래'을 추천합니다.\n",
            "가격: 7800\n",
            "청원국민통닭에서 파는 '마리'을 추천합니다.\n",
            "가격: 4500\n"
          ]
        }
      ]
    },
    {
      "cell_type": "markdown",
      "source": [],
      "metadata": {
        "id": "fTxkiBy5O-qs"
      }
    }
  ]
}